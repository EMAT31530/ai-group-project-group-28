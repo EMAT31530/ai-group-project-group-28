{
 "cells": [
  {
   "cell_type": "code",
   "execution_count": 2,
   "metadata": {
    "id": "pFrh2vxh2MXR"
   },
   "outputs": [],
   "source": [
    "import numpy as np\n",
    "import pandas as pd\n",
    "import matplotlib.pyplot as plt\n",
    "import seaborn as sns\n",
    "from imblearn.over_sampling import SMOTE, RandomOverSampler\n",
    "from imblearn.under_sampling import RandomUnderSampler, CondensedNearestNeighbour"
   ]
  },
  {
   "cell_type": "code",
   "execution_count": 3,
   "metadata": {
    "id": "kcwtnwWg2Ovz"
   },
   "outputs": [],
   "source": [
    "df = pd.read_csv('training_set_autoencoded.csv')\n",
    "X, y = df.iloc[:,:-1], df.iloc[:, -1]"
   ]
  },
  {
   "cell_type": "code",
   "execution_count": 4,
   "metadata": {
    "id": "gZpX3_8S2Vci"
   },
   "outputs": [],
   "source": [
    "#SMOTE\n",
    "sm = SMOTE(random_state=0)\n",
    "X_smote, y_smote = sm.fit_resample(X,y)\n",
    "\n",
    "X_smote['default.payment.next.month'] = y_smote\n",
    "\n",
    "X_smote.to_csv('training_SMOTE_autoencoded.csv', index=False)"
   ]
  },
  {
   "cell_type": "code",
   "execution_count": 5,
   "metadata": {
    "id": "WyinKqFh2WeK"
   },
   "outputs": [],
   "source": [
    "#RandomOverSample\n",
    "ros = RandomOverSampler(random_state=0)\n",
    "X_ros, y_ros = ros.fit_resample(X,y)\n",
    "\n",
    "X_ros['default.payment.next.month'] = y_ros\n",
    "X_ros.to_csv('training_ROS_autoencoded.csv', index=False)"
   ]
  },
  {
   "cell_type": "code",
   "execution_count": 6,
   "metadata": {
    "id": "O30z5nvX2YL6"
   },
   "outputs": [],
   "source": [
    "#RandomUnderSample\n",
    "rus = RandomUnderSampler(random_state=0)\n",
    "X_rus, y_rus = rus.fit_resample(X,y)\n",
    "\n",
    "X_rus['default.payment.next.month'] = y_rus\n",
    "\n",
    "\n",
    "\n",
    "X_rus.to_csv('training_RUS_autoencoded.csv', index=False)\n"
   ]
  },
  {
   "cell_type": "code",
   "execution_count": null,
   "metadata": {
    "colab": {
     "base_uri": "https://localhost:8080/"
    },
    "id": "yYTAVLZT25fK",
    "outputId": "db6f9a10-aecf-42bc-d511-6a6df3e3df28"
   },
   "outputs": [],
   "source": [
    "#CNN\n",
    "cnn = CondensedNearestNeighbour(random_state=0)\n",
    "X_cnn, y_cnn = cnn.fit_resample(X,y)\n",
    "\n",
    "X_cnn['default.payment.next.month'] = y_cnn\n",
    "X_cnn.to_csv('training_cnn_autoencoded.csv', index=False)"
   ]
  },
  {
   "cell_type": "code",
   "execution_count": null,
   "metadata": {
    "id": "U2nw1Q1132LR"
   },
   "outputs": [],
   "source": [
    "df = pd.read_csv('data16.csv')"
   ]
  },
  {
   "cell_type": "code",
   "execution_count": null,
   "metadata": {
    "id": "fnnqjLOs7otF"
   },
   "outputs": [],
   "source": [
    "df_train, df_test_valid = train_test_split( df ,stratify=df['label'], test_size=0.3)\n",
    "df_test, df_validation = train_test_split( df_test_valid, stratify=df_test_valid['label'], test_size=0.5)"
   ]
  },
  {
   "cell_type": "code",
   "execution_count": null,
   "metadata": {
    "id": "9ZAR3pwP79Zt"
   },
   "outputs": [],
   "source": [
    "df_train.to_csv('training_set_autoencoded.csv', index=False)\n",
    "df_validation.to_csv('validation_set_autoencoded.csv', index=False)\n",
    "df_test.to_csv('test_set_autoencoded.csv', index=False)"
   ]
  }
 ],
 "metadata": {
  "colab": {
   "name": "AutoResample.ipynb",
   "provenance": []
  },
  "kernelspec": {
   "display_name": "Python 3",
   "language": "python",
   "name": "python3"
  },
  "language_info": {
   "codemirror_mode": {
    "name": "ipython",
    "version": 3
   },
   "file_extension": ".py",
   "mimetype": "text/x-python",
   "name": "python",
   "nbconvert_exporter": "python",
   "pygments_lexer": "ipython3",
   "version": "3.8.5"
  }
 },
 "nbformat": 4,
 "nbformat_minor": 1
}
