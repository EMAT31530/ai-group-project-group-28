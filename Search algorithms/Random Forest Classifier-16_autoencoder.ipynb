{
 "cells": [
  {
   "cell_type": "code",
   "execution_count": 23,
   "metadata": {},
   "outputs": [],
   "source": [
    "import numpy as np\n",
    "import pandas as pd\n",
    "from matplotlib import pyplot as plt\n",
    "from sklearn.model_selection import train_test_split\n",
    "from sklearn.tree import DecisionTreeClassifier\n",
    "\n",
    "from sklearn import tree\n",
    "\n",
    "from sklearn import ensemble\n",
    "from sklearn.ensemble import RandomForestClassifier\n",
    "from sklearn.ensemble import AdaBoostClassifier\n",
    "\n"
   ]
  },
  {
   "cell_type": "code",
   "execution_count": 24,
   "metadata": {},
   "outputs": [],
   "source": [
    "from collections import Counter\n",
    "from sklearn.metrics import f1_score\n",
    "from sklearn.metrics import fbeta_score\n",
    "from sklearn.metrics import accuracy_score\n",
    "from sklearn.metrics import precision_score\n",
    "from sklearn.metrics import recall_score\n",
    "from sklearn.metrics import roc_curve, auc, roc_auc_score"
   ]
  },
  {
   "cell_type": "code",
   "execution_count": 25,
   "metadata": {},
   "outputs": [],
   "source": [
    "df=pd.read_csv(r'C:\\Users\\Mollie\\Documents\\Uni 3\\AI\\AI project\\ActualActualData\\training_set.csv')\n",
    "df_ROS=pd.read_csv(r'C:\\Users\\Mollie\\Documents\\Uni 3\\AI\\AI project\\ActualActualData\\training_ros_autoencoded_16.csv')\n",
    "df_RUS=pd.read_csv(r'C:\\Users\\Mollie\\Documents\\Uni 3\\AI\\AI project\\ActualActualData\\training_rus_autoencoded_16.csv')\n",
    "df_SMOTE=pd.read_csv(r'C:\\Users\\Mollie\\Documents\\Uni 3\\AI\\AI project\\ActualActualData\\training_smote_autoencoded_16.csv')\n",
    "df_cnn=pd.read_csv(r'C:\\Users\\Mollie\\Documents\\Uni 3\\AI\\AI project\\ActualActualData\\training_cnn_autoencoded_16.csv')\n",
    "#df_cnn_autoe=pd.read_csv(r'C:\\Users\\Mollie\\Documents\\Uni 3\\AI\\AI project\\ActualActualData\\training_cnn_autoencoded.csv')\n",
    "df_test=pd.read_csv(r'C:\\Users\\Mollie\\Documents\\Uni 3\\AI\\AI project\\ActualActualData\\test_set.csv')\n",
    "df.head()\n",
    "x_train=df.iloc[:,:-1]\n",
    "y_train=df.iloc[:,-1]\n",
    "x_ov=df_ROS.iloc[:,:-1]\n",
    "y_ov=df_ROS.iloc[:,-1]\n",
    "x_under = df_RUS.iloc[:,:-1]\n",
    "y_under=df_RUS.iloc[:,-1]\n",
    "x_smote=df_SMOTE.iloc[:,:-1]\n",
    "y_smote=df_SMOTE.iloc[:,-1]\n",
    "x_test=df_test.iloc[:,:-1]\n",
    "y_test=df_test.iloc[:,-1]\n",
    "x_cnn=df_cnn.iloc[:,:-1]\n",
    "y_cnn=df_cnn.iloc[:,-1]\n",
    "#x_cnn_autoe=df_cnn.iloc[:,:-1]\n",
    "#y_cnn_autoe=df_cnn.iloc[:,-1]\n",
    "accuracy_no_sampling=[]\n",
    "accuracy_over_sampling=[]\n",
    "accuracy_under_sampling=[]\n",
    "accuracy_smote_sampling=[]\n",
    "accuracy_cnn_sampling=[]\n",
    "f1_no_sampling=[]\n",
    "f1_over_sampling=[]\n",
    "f1_under_sampling=[]\n",
    "f1_smote_sampling=[]\n",
    "f1_cnn_sampling=[]\n",
    "precision_no_sampling=[]\n",
    "precision_over_sampling=[]\n",
    "precision_under_sampling=[]\n",
    "precision_smote_sampling=[]\n",
    "precision_cnn_sampling=[]\n",
    "recall_no_sampling=[]\n",
    "recall_over_sampling=[]\n",
    "recall_under_sampling=[]\n",
    "recall_smote_sampling=[]\n",
    "recall_cnn_sampling=[]"
   ]
  },
  {
   "cell_type": "code",
   "execution_count": 26,
   "metadata": {},
   "outputs": [
    {
     "data": {
      "text/plain": [
       "(21000, 24)"
      ]
     },
     "execution_count": 26,
     "metadata": {},
     "output_type": "execute_result"
    }
   ],
   "source": [
    "df.shape"
   ]
  },
  {
   "cell_type": "code",
   "execution_count": 27,
   "metadata": {},
   "outputs": [],
   "source": [
    "clf =tree.DecisionTreeClassifier()\n",
    "ada = AdaBoostClassifier(n_estimators=100,learning_rate=0.3)"
   ]
  },
  {
   "cell_type": "code",
   "execution_count": 28,
   "metadata": {},
   "outputs": [
    {
     "name": "stdout",
     "output_type": "stream",
     "text": [
      "[0.410061699098244]\n"
     ]
    }
   ],
   "source": [
    "#nosampling decsiion tree\n",
    "clf_nosamp=clf.fit(x_train,y_train)\n",
    "clf_nosamp_prediction=clf_nosamp.predict(x_test)\n",
    "clf_nosamp_accuracy=accuracy_score(clf_nosamp_prediction,y_test)\n",
    "clf_nosamp_f1=f1_score(clf_nosamp_prediction,y_test)\n",
    "clf_nosamp_precision=precision_score(clf_nosamp_prediction,y_test)\n",
    "clf_nosamp_recall=recall_score(clf_nosamp_prediction,y_test)\n",
    "clf_nosamp=[clf_nosamp_accuracy,clf_nosamp_f1]\n",
    "accuracy_no_sampling.append(clf_nosamp_accuracy)\n",
    "f1_no_sampling.append(clf_nosamp_f1)\n",
    "precision_no_sampling.append(clf_nosamp_precision)\n",
    "recall_no_sampling.append(clf_nosamp_recall)\n",
    "print(f1_no_sampling)"
   ]
  },
  {
   "cell_type": "code",
   "execution_count": 29,
   "metadata": {},
   "outputs": [
    {
     "name": "stderr",
     "output_type": "stream",
     "text": [
      "C:\\Users\\Mollie\\Documents\\python\\lib\\site-packages\\sklearn\\base.py:493: FutureWarning: The feature names should match those that were passed during fit. Starting version 1.2, an error will be raised.\n",
      "Feature names unseen at fit time:\n",
      "- AGE\n",
      "- EDUCATION\n",
      "- LIMIT_BAL\n",
      "- MARRIAGE\n",
      "- SEX\n",
      "- ...\n",
      "Feature names seen at fit time, yet now missing:\n",
      "- 0\n",
      "- 1\n",
      "- 10\n",
      "- 11\n",
      "- 12\n",
      "- ...\n",
      "\n",
      "  warnings.warn(message, FutureWarning)\n"
     ]
    },
    {
     "ename": "ValueError",
     "evalue": "X has 23 features, but AdaBoostClassifier is expecting 16 features as input.",
     "output_type": "error",
     "traceback": [
      "\u001b[1;31m---------------------------------------------------------------------------\u001b[0m",
      "\u001b[1;31mValueError\u001b[0m                                Traceback (most recent call last)",
      "\u001b[1;32m<ipython-input-29-c9667f9f6fe1>\u001b[0m in \u001b[0;36m<module>\u001b[1;34m\u001b[0m\n\u001b[0;32m      2\u001b[0m \u001b[0mada\u001b[0m \u001b[1;33m=\u001b[0m \u001b[0mAdaBoostClassifier\u001b[0m\u001b[1;33m(\u001b[0m\u001b[0mn_estimators\u001b[0m\u001b[1;33m=\u001b[0m\u001b[1;36m100\u001b[0m\u001b[1;33m,\u001b[0m\u001b[0mlearning_rate\u001b[0m\u001b[1;33m=\u001b[0m\u001b[1;36m0.3\u001b[0m\u001b[1;33m)\u001b[0m\u001b[1;33m\u001b[0m\u001b[1;33m\u001b[0m\u001b[0m\n\u001b[0;32m      3\u001b[0m \u001b[0mada_nosamp\u001b[0m\u001b[1;33m=\u001b[0m\u001b[0mada\u001b[0m\u001b[1;33m.\u001b[0m\u001b[0mfit\u001b[0m\u001b[1;33m(\u001b[0m\u001b[0mx_cnn_autoe\u001b[0m\u001b[1;33m,\u001b[0m\u001b[0my_cnn_autoe\u001b[0m\u001b[1;33m)\u001b[0m\u001b[1;33m\u001b[0m\u001b[1;33m\u001b[0m\u001b[0m\n\u001b[1;32m----> 4\u001b[1;33m \u001b[0mada_nosamp_prediction\u001b[0m\u001b[1;33m=\u001b[0m\u001b[0mada_nosamp\u001b[0m\u001b[1;33m.\u001b[0m\u001b[0mpredict\u001b[0m\u001b[1;33m(\u001b[0m\u001b[0mx_test\u001b[0m\u001b[1;33m)\u001b[0m\u001b[1;33m\u001b[0m\u001b[1;33m\u001b[0m\u001b[0m\n\u001b[0m\u001b[0;32m      5\u001b[0m \u001b[0mada_nosamp_accuracy\u001b[0m\u001b[1;33m=\u001b[0m\u001b[0maccuracy_score\u001b[0m\u001b[1;33m(\u001b[0m\u001b[0mada_nosamp_prediction\u001b[0m\u001b[1;33m,\u001b[0m\u001b[0my_test\u001b[0m\u001b[1;33m)\u001b[0m\u001b[1;33m\u001b[0m\u001b[1;33m\u001b[0m\u001b[0m\n\u001b[0;32m      6\u001b[0m \u001b[0mada_nosamp_f1\u001b[0m\u001b[1;33m=\u001b[0m\u001b[0mf1_score\u001b[0m\u001b[1;33m(\u001b[0m\u001b[0mada_nosamp_prediction\u001b[0m\u001b[1;33m,\u001b[0m\u001b[0my_test\u001b[0m\u001b[1;33m)\u001b[0m\u001b[1;33m\u001b[0m\u001b[1;33m\u001b[0m\u001b[0m\n",
      "\u001b[1;32m~\\Documents\\python\\lib\\site-packages\\sklearn\\ensemble\\_weight_boosting.py\u001b[0m in \u001b[0;36mpredict\u001b[1;34m(self, X)\u001b[0m\n\u001b[0;32m    677\u001b[0m             \u001b[0mThe\u001b[0m \u001b[0mpredicted\u001b[0m \u001b[0mclasses\u001b[0m\u001b[1;33m.\u001b[0m\u001b[1;33m\u001b[0m\u001b[1;33m\u001b[0m\u001b[0m\n\u001b[0;32m    678\u001b[0m         \"\"\"\n\u001b[1;32m--> 679\u001b[1;33m         \u001b[0mpred\u001b[0m \u001b[1;33m=\u001b[0m \u001b[0mself\u001b[0m\u001b[1;33m.\u001b[0m\u001b[0mdecision_function\u001b[0m\u001b[1;33m(\u001b[0m\u001b[0mX\u001b[0m\u001b[1;33m)\u001b[0m\u001b[1;33m\u001b[0m\u001b[1;33m\u001b[0m\u001b[0m\n\u001b[0m\u001b[0;32m    680\u001b[0m \u001b[1;33m\u001b[0m\u001b[0m\n\u001b[0;32m    681\u001b[0m         \u001b[1;32mif\u001b[0m \u001b[0mself\u001b[0m\u001b[1;33m.\u001b[0m\u001b[0mn_classes_\u001b[0m \u001b[1;33m==\u001b[0m \u001b[1;36m2\u001b[0m\u001b[1;33m:\u001b[0m\u001b[1;33m\u001b[0m\u001b[1;33m\u001b[0m\u001b[0m\n",
      "\u001b[1;32m~\\Documents\\python\\lib\\site-packages\\sklearn\\ensemble\\_weight_boosting.py\u001b[0m in \u001b[0;36mdecision_function\u001b[1;34m(self, X)\u001b[0m\n\u001b[0;32m    738\u001b[0m         \"\"\"\n\u001b[0;32m    739\u001b[0m         \u001b[0mcheck_is_fitted\u001b[0m\u001b[1;33m(\u001b[0m\u001b[0mself\u001b[0m\u001b[1;33m)\u001b[0m\u001b[1;33m\u001b[0m\u001b[1;33m\u001b[0m\u001b[0m\n\u001b[1;32m--> 740\u001b[1;33m         \u001b[0mX\u001b[0m \u001b[1;33m=\u001b[0m \u001b[0mself\u001b[0m\u001b[1;33m.\u001b[0m\u001b[0m_check_X\u001b[0m\u001b[1;33m(\u001b[0m\u001b[0mX\u001b[0m\u001b[1;33m)\u001b[0m\u001b[1;33m\u001b[0m\u001b[1;33m\u001b[0m\u001b[0m\n\u001b[0m\u001b[0;32m    741\u001b[0m \u001b[1;33m\u001b[0m\u001b[0m\n\u001b[0;32m    742\u001b[0m         \u001b[0mn_classes\u001b[0m \u001b[1;33m=\u001b[0m \u001b[0mself\u001b[0m\u001b[1;33m.\u001b[0m\u001b[0mn_classes_\u001b[0m\u001b[1;33m\u001b[0m\u001b[1;33m\u001b[0m\u001b[0m\n",
      "\u001b[1;32m~\\Documents\\python\\lib\\site-packages\\sklearn\\ensemble\\_weight_boosting.py\u001b[0m in \u001b[0;36m_check_X\u001b[1;34m(self, X)\u001b[0m\n\u001b[0;32m     80\u001b[0m     \u001b[1;32mdef\u001b[0m \u001b[0m_check_X\u001b[0m\u001b[1;33m(\u001b[0m\u001b[0mself\u001b[0m\u001b[1;33m,\u001b[0m \u001b[0mX\u001b[0m\u001b[1;33m)\u001b[0m\u001b[1;33m:\u001b[0m\u001b[1;33m\u001b[0m\u001b[1;33m\u001b[0m\u001b[0m\n\u001b[0;32m     81\u001b[0m         \u001b[1;31m# Only called to validate X in non-fit methods, therefore reset=False\u001b[0m\u001b[1;33m\u001b[0m\u001b[1;33m\u001b[0m\u001b[1;33m\u001b[0m\u001b[0m\n\u001b[1;32m---> 82\u001b[1;33m         return self._validate_data(\n\u001b[0m\u001b[0;32m     83\u001b[0m             \u001b[0mX\u001b[0m\u001b[1;33m,\u001b[0m\u001b[1;33m\u001b[0m\u001b[1;33m\u001b[0m\u001b[0m\n\u001b[0;32m     84\u001b[0m             \u001b[0maccept_sparse\u001b[0m\u001b[1;33m=\u001b[0m\u001b[1;33m[\u001b[0m\u001b[1;34m\"csr\"\u001b[0m\u001b[1;33m,\u001b[0m \u001b[1;34m\"csc\"\u001b[0m\u001b[1;33m]\u001b[0m\u001b[1;33m,\u001b[0m\u001b[1;33m\u001b[0m\u001b[1;33m\u001b[0m\u001b[0m\n",
      "\u001b[1;32m~\\Documents\\python\\lib\\site-packages\\sklearn\\base.py\u001b[0m in \u001b[0;36m_validate_data\u001b[1;34m(self, X, y, reset, validate_separately, **check_params)\u001b[0m\n\u001b[0;32m    583\u001b[0m \u001b[1;33m\u001b[0m\u001b[0m\n\u001b[0;32m    584\u001b[0m         \u001b[1;32mif\u001b[0m \u001b[1;32mnot\u001b[0m \u001b[0mno_val_X\u001b[0m \u001b[1;32mand\u001b[0m \u001b[0mcheck_params\u001b[0m\u001b[1;33m.\u001b[0m\u001b[0mget\u001b[0m\u001b[1;33m(\u001b[0m\u001b[1;34m\"ensure_2d\"\u001b[0m\u001b[1;33m,\u001b[0m \u001b[1;32mTrue\u001b[0m\u001b[1;33m)\u001b[0m\u001b[1;33m:\u001b[0m\u001b[1;33m\u001b[0m\u001b[1;33m\u001b[0m\u001b[0m\n\u001b[1;32m--> 585\u001b[1;33m             \u001b[0mself\u001b[0m\u001b[1;33m.\u001b[0m\u001b[0m_check_n_features\u001b[0m\u001b[1;33m(\u001b[0m\u001b[0mX\u001b[0m\u001b[1;33m,\u001b[0m \u001b[0mreset\u001b[0m\u001b[1;33m=\u001b[0m\u001b[0mreset\u001b[0m\u001b[1;33m)\u001b[0m\u001b[1;33m\u001b[0m\u001b[1;33m\u001b[0m\u001b[0m\n\u001b[0m\u001b[0;32m    586\u001b[0m \u001b[1;33m\u001b[0m\u001b[0m\n\u001b[0;32m    587\u001b[0m         \u001b[1;32mreturn\u001b[0m \u001b[0mout\u001b[0m\u001b[1;33m\u001b[0m\u001b[1;33m\u001b[0m\u001b[0m\n",
      "\u001b[1;32m~\\Documents\\python\\lib\\site-packages\\sklearn\\base.py\u001b[0m in \u001b[0;36m_check_n_features\u001b[1;34m(self, X, reset)\u001b[0m\n\u001b[0;32m    398\u001b[0m \u001b[1;33m\u001b[0m\u001b[0m\n\u001b[0;32m    399\u001b[0m         \u001b[1;32mif\u001b[0m \u001b[0mn_features\u001b[0m \u001b[1;33m!=\u001b[0m \u001b[0mself\u001b[0m\u001b[1;33m.\u001b[0m\u001b[0mn_features_in_\u001b[0m\u001b[1;33m:\u001b[0m\u001b[1;33m\u001b[0m\u001b[1;33m\u001b[0m\u001b[0m\n\u001b[1;32m--> 400\u001b[1;33m             raise ValueError(\n\u001b[0m\u001b[0;32m    401\u001b[0m                 \u001b[1;34mf\"X has {n_features} features, but {self.__class__.__name__} \"\u001b[0m\u001b[1;33m\u001b[0m\u001b[1;33m\u001b[0m\u001b[0m\n\u001b[0;32m    402\u001b[0m                 \u001b[1;34mf\"is expecting {self.n_features_in_} features as input.\"\u001b[0m\u001b[1;33m\u001b[0m\u001b[1;33m\u001b[0m\u001b[0m\n",
      "\u001b[1;31mValueError\u001b[0m: X has 23 features, but AdaBoostClassifier is expecting 16 features as input."
     ]
    }
   ],
   "source": [
    "#nosampling decsiion tree adaboost\n",
    "ada = AdaBoostClassifier(n_estimators=100,learning_rate=0.3)\n",
    "ada_nosamp=ada.fit(x_cnn_autoe,y_cnn_autoe)\n",
    "ada_nosamp_prediction=ada_nosamp.predict(x_test)\n",
    "ada_nosamp_accuracy=accuracy_score(ada_nosamp_prediction,y_test)\n",
    "ada_nosamp_f1=f1_score(ada_nosamp_prediction,y_test)\n",
    "ada_nosamp_precision=precision_score(ada_nosamp_prediction,y_test)\n",
    "ada_nosamp_recall=recall_score(ada_nosamp_prediction,y_test)\n",
    "#ada_nosamp=[ada_nosamp_accuracy,ada_nosamp_f1]\n",
    "accuracy_no_sampling.append(ada_nosamp_accuracy)\n",
    "f1_no_sampling.append(ada_nosamp_f1)\n",
    "precision_no_sampling.append(ada_nosamp_precision)\n",
    "recall_no_sampling.append(ada_nosamp_recall)\n",
    "print(accuracy_no_sampling,ada_nosamp_f1)\n"
   ]
  },
  {
   "cell_type": "code",
   "execution_count": null,
   "metadata": {},
   "outputs": [],
   "source": []
  },
  {
   "cell_type": "code",
   "execution_count": null,
   "metadata": {},
   "outputs": [],
   "source": [
    "#oversampling dec tree\n",
    "#now we make the decision tree with our new smaples\n",
    "clf_oversamp=clf.fit(x_ov,y_ov)\n",
    "clf_oversamp_prediction=clf_oversamp.predict(x_test)\n",
    "clf_oversamp_accuracy=accuracy_score(clf_oversamp_prediction,y_test)\n",
    "clf_oversamp_f1=f1_score(clf_oversamp_prediction,y_test)\n",
    "clf_oversamp_precision=precision_score(clf_oversamp_prediction,y_test)\n",
    "clf_oversamp_recall=recall_score(clf_oversamp_prediction,y_test)\n",
    "#clf_oversamp=[oversamp_accuracy,oversamp_f1]\n",
    "accuracy_over_sampling.append(clf_oversamp_accuracy)\n",
    "f1_over_sampling.append(clf_oversamp_f1)\n",
    "precision_over_sampling.append(clf_oversamp_precision)\n",
    "recall_over_sampling.append(clf_oversamp_recall)"
   ]
  },
  {
   "cell_type": "code",
   "execution_count": null,
   "metadata": {},
   "outputs": [],
   "source": [
    "########################################\n",
    "#oversampling ada \n",
    "ada_oversamp=ada.fit(x_ov,y_ov)\n",
    "ada_oversamp_prediction=ada_oversamp.predict(x_test)\n",
    "ada_oversamp_accuracy=accuracy_score(ada_oversamp_prediction,y_test)\n",
    "ada_oversamp_f1=f1_score(ada_oversamp_prediction,y_test)\n",
    "ada_oversamp_precision=precision_score(ada_oversamp_prediction,y_test)\n",
    "ada_oversamp_recall=recall_score(ada_oversamp_prediction,y_test)\n",
    "#ada_oversamp=[ada_oversamp_accuracy,ada_oversamp_f1]\n",
    "accuracy_over_sampling.append(ada_oversamp_accuracy)\n",
    "f1_over_sampling.append(ada_oversamp_f1)\n",
    "precision_over_sampling.append(ada_oversamp_precision)\n",
    "recall_over_sampling.append(ada_oversamp_recall)\n",
    "print(ada_oversamp_accuracy,ada_oversamp_f1)"
   ]
  },
  {
   "cell_type": "code",
   "execution_count": null,
   "metadata": {},
   "outputs": [],
   "source": [
    "#undersampling dectree\n",
    "clf_undersamp=clf.fit(x_under,y_under)\n",
    "clf_undersamp_prediction=clf_undersamp.predict(x_test)\n",
    "clf_undersamp_accuracy=accuracy_score(clf_undersamp_prediction,y_test)\n",
    "clf_undersamp_f1=f1_score(clf_undersamp_prediction,y_test)\n",
    "clf_undersamp_precision=precision_score(clf_undersamp_prediction,y_test)\n",
    "clf_undersamp_recall=recall_score(clf_undersamp_prediction,y_test)\n",
    "#clf_undersamp=[clf_undersamp_accuracy,clf_undersamp_f1]\n",
    "accuracy_under_sampling.append(clf_undersamp_accuracy)\n",
    "f1_under_sampling.append(clf_undersamp_f1)\n",
    "precision_under_sampling.append(clf_undersamp_precision)\n",
    "recall_under_sampling.append(clf_undersamp_recall)"
   ]
  },
  {
   "cell_type": "code",
   "execution_count": null,
   "metadata": {},
   "outputs": [],
   "source": [
    "#undersampling ada\n",
    "ada_undersamp=ada.fit(x_under,y_under)\n",
    "ada_undersamp_prediction=ada_undersamp.predict(x_test)\n",
    "ada_undersamp_accuracy=accuracy_score(ada_undersamp_prediction,y_test)\n",
    "ada_undersamp_f1=f1_score(ada_undersamp_prediction,y_test)\n",
    "ada_undersamp_precision=precision_score(ada_undersamp_prediction,y_test)\n",
    "ada_undersamp_recall=recall_score(ada_undersamp_prediction,y_test)\n",
    "#ada_undersamp=[ada_undersamp_accuracy,ada_undersamp_f1]\n",
    "accuracy_under_sampling.append(ada_undersamp_accuracy)\n",
    "f1_under_sampling.append(ada_undersamp_f1)\n",
    "precision_under_sampling.append(ada_undersamp_precision)\n",
    "recall_under_sampling.append(ada_undersamp_recall)"
   ]
  },
  {
   "cell_type": "code",
   "execution_count": null,
   "metadata": {},
   "outputs": [],
   "source": [
    "#smote sampling dectree\n",
    "clf_oversamp_smote=clf.fit(x_smote,y_smote)\n",
    "clf_oversamp_smote_prediction=clf_oversamp_smote.predict(x_test)\n",
    "clf_oversamp_smote_accuracy=accuracy_score(clf_oversamp_smote_prediction,y_test)\n",
    "clf_oversamp_smote_f1=f1_score(clf_oversamp_smote_prediction,y_test)\n",
    "clf_oversamp_smote_precision=precision_score(clf_oversamp_smote_prediction,y_test)\n",
    "clf_oversamp_smote_recall=recall_score(clf_oversamp_smote_prediction,y_test)\n",
    "#clf_smote=[oversamp_smote_accuracy,oversamp_smote_f1]\n",
    "accuracy_smote_sampling.append(clf_oversamp_smote_accuracy)\n",
    "f1_smote_sampling.append(clf_oversamp_smote_f1)\n",
    "precision_smote_sampling.append(clf_oversamp_smote_precision)\n",
    "recall_smote_sampling.append(clf_oversamp_smote_recall)"
   ]
  },
  {
   "cell_type": "code",
   "execution_count": null,
   "metadata": {},
   "outputs": [],
   "source": [
    "#smote sampling ada\n",
    "ada_oversamp_smote=ada.fit(x_smote,y_smote)\n",
    "ada_oversamp_smote_prediction=ada_oversamp_smote.predict(x_test)\n",
    "ada_oversamp_smote_accuracy=accuracy_score(ada_oversamp_smote_prediction,y_test)\n",
    "ada_oversamp_smote_f1=f1_score(ada_oversamp_smote_prediction,y_test)\n",
    "ada_oversamp_smote_precision=precision_score(ada_oversamp_smote_prediction,y_test)\n",
    "ada_oversamp_smote_recall=recall_score(ada_oversamp_smote_prediction,y_test)\n",
    "#ada_smote=[ada_oversamp_smote_accuracy,ada_oversamp_smote_f1]\n",
    "accuracy_smote_sampling.append(ada_oversamp_smote_accuracy)\n",
    "f1_smote_sampling.append(ada_oversamp_smote_f1)\n",
    "precision_smote_sampling.append(ada_oversamp_smote_precision)\n",
    "recall_smote_sampling.append(ada_oversamp_smote_recall)"
   ]
  },
  {
   "cell_type": "code",
   "execution_count": null,
   "metadata": {},
   "outputs": [],
   "source": [
    "#cnn sampling dectree \n",
    "clf_oversamp_cnn=clf.fit(x_cnn,y_cnn)\n",
    "clf_oversamp_cnn_prediction=clf_oversamp_cnn.predict(x_test)\n",
    "clf_oversamp_cnn_accuracy=accuracy_score(clf_oversamp_cnn_prediction,y_test)\n",
    "clf_oversamp_cnn_f1=f1_score(clf_oversamp_cnn_prediction,y_test)\n",
    "clf_oversamp_cnn_recall=recall_score(clf_oversamp_cnn_prediction,y_test)\n",
    "clf_oversamp_cnn_precision=precision_score(clf_oversamp_cnn_prediction,y_test)\n",
    "#clf_cnn=[oversamp_smote_accuracy,oversamp_cnn_f1]\n",
    "accuracy_cnn_sampling.append(clf_oversamp_cnn_accuracy)\n",
    "f1_cnn_sampling.append(clf_oversamp_cnn_f1)\n",
    "recall_cnn_sampling.append(clf_oversamp_cnn_recall)\n",
    "precision_cnn_sampling.append(clf_oversamp_cnn_precision)"
   ]
  },
  {
   "cell_type": "code",
   "execution_count": null,
   "metadata": {},
   "outputs": [],
   "source": [
    "#cnn sampling ada\n",
    "ada_oversamp_cnn=ada.fit(x_cnn,y_cnn)\n",
    "ada_oversamp_cnn_prediction=ada_oversamp_cnn.predict(x_test)\n",
    "ada_oversamp_cnn_accuracy=accuracy_score(ada_oversamp_cnn_prediction,y_test)\n",
    "ada_oversamp_cnn_f1=f1_score(ada_oversamp_cnn_prediction,y_test)\n",
    "ada_oversamp_cnn_precision=precision_score(ada_oversamp_cnn_prediction,y_test)\n",
    "ada_oversamp_cnn_recall=recall_score(ada_oversamp_cnn_prediction,y_test)\n",
    "#ada_smote=[ada_oversamp_smote_accuracy,ada_oversamp_smote_f1]\n",
    "accuracy_cnn_sampling.append(ada_oversamp_cnn_accuracy)\n",
    "f1_cnn_sampling.append(ada_oversamp_cnn_f1)\n",
    "precision_cnn_sampling.append(ada_oversamp_cnn_precision)\n",
    "recall_cnn_sampling.append(ada_oversamp_cnn_recall)"
   ]
  },
  {
   "cell_type": "code",
   "execution_count": null,
   "metadata": {},
   "outputs": [],
   "source": []
  },
  {
   "cell_type": "code",
   "execution_count": null,
   "metadata": {},
   "outputs": [],
   "source": [
    "#we first find the optimal number of trees in the random forest (TAKES AGES TO RUN) and from the results choose 100 also not sure why zigzag\n",
    "def optimal_trees(x_train, y_train, array, x_test):\n",
    "    accuracy_list =[]\n",
    "    f1_list=[]\n",
    "    for i in array:\n",
    "        rfc =ensemble.RandomForestClassifier(n_estimators=i)\n",
    "        rfc_nosamp=rfc.fit(x_train,y_train)\n",
    "        rfc_nosamp_prediction=rfc_nosamp.predict(x_test)\n",
    "        rfc_nosamp_accuracy=accuracy_score(rfc_nosamp_prediction,y_test)\n",
    "        rfc_nosamp_f1=f1_score(rfc_nosamp_prediction,y_test)\n",
    "        rfc_nosamp_scores= [rfc_nosamp_accuracy, rfc_nosamp_f1]\n",
    "        accuracy_list.append(rfc_nosamp_accuracy)\n",
    "        f1_list.append(rfc_nosamp_f1)\n",
    "    print(accuracy_list,f1_list)\n",
    "    plt.plot(array, accuracy_list)\n",
    "    plt.xlabel('no_of_tres')\n",
    "    plt.ylabel('score')\n",
    "    plt.show()\n",
    "    plt.plot(array, f1_list)\n",
    "    plt.show()\n",
    "    return('hi')\n",
    " \n",
    "    \n",
    "\n",
    "    \n",
    "    "
   ]
  },
  {
   "cell_type": "code",
   "execution_count": null,
   "metadata": {},
   "outputs": [],
   "source": [
    "optimal_trees(x_train,y_train,[30,40,50,60,70,80,90,100,110,120,130,140,150,160],x_test)"
   ]
  },
  {
   "cell_type": "code",
   "execution_count": null,
   "metadata": {},
   "outputs": [],
   "source": [
    "rfc =ensemble.RandomForestClassifier(n_estimators=100)"
   ]
  },
  {
   "cell_type": "code",
   "execution_count": null,
   "metadata": {},
   "outputs": [],
   "source": [
    "#rfc nosampling\n",
    "rfc_nosamp=rfc.fit(x_train,y_train)\n",
    "rfc_nosamp_prediction=rfc_nosamp.predict(x_test)\n",
    "rfc_nosamp_accuracy=accuracy_score(rfc_nosamp_prediction,y_test)\n",
    "rfc_nosamp_f1=f1_score(rfc_nosamp_prediction,y_test)\n",
    "rfc_nosamp_precision=precision_score(rfc_nosamp_prediction,y_test)\n",
    "rfc_nosamp_recall=recall_score(rfc_nosamp_prediction,y_test)\n",
    "#rfc_nosamp_scores= [rfc_nosamp_accuracy, rfc_nosamp_f1]\n",
    "#rfc_nosamp=[rfc_nosamp_scores]\n",
    "accuracy_no_sampling.append(rfc_nosamp_accuracy)\n",
    "f1_no_sampling.append(rfc_nosamp_f1)\n",
    "precision_no_sampling.append(rfc_nosamp_precision)\n",
    "recall_no_sampling.append(rfc_nosamp_recall)"
   ]
  },
  {
   "cell_type": "code",
   "execution_count": null,
   "metadata": {},
   "outputs": [],
   "source": [
    "#rfc oversampling\n",
    "#now we make the decision tree with our new smaples\n",
    "rfc_oversamp=rfc.fit(x_ov,y_ov)\n",
    "rfc_oversamp_prediction=rfc_oversamp.predict(x_test)\n",
    "rfc_oversamp_accuracy=accuracy_score(rfc_oversamp_prediction,y_test)\n",
    "rfc_oversamp_f1=f1_score(rfc_oversamp_prediction,y_test)\n",
    "rfc_oversamp_precision=precision_score(rfc_oversamp_prediction,y_test)\n",
    "rfc_oversamp_recall=recall_score(rfc_oversamp_prediction,y_test)\n",
    "#rfc_oversamp=[rfc_oversamp_accuracy,rfc_oversamp_f1]\n",
    "accuracy_over_sampling.append(rfc_oversamp_accuracy)\n",
    "f1_over_sampling.append(rfc_oversamp_f1)\n",
    "precision_over_sampling.append(rfc_oversamp_precision)\n",
    "recall_over_sampling.append(rfc_oversamp_recall)"
   ]
  },
  {
   "cell_type": "code",
   "execution_count": null,
   "metadata": {},
   "outputs": [],
   "source": [
    "#rfc undersampling\n",
    "#now we make the decision tree with our new smaples\n",
    "undersamp_rfc=rfc.fit(x_under,y_under)\n",
    "rfc_undersamp_prediction=undersamp_rfc.predict(x_test)\n",
    "rfc_undersamp_accuracy=accuracy_score(rfc_undersamp_prediction,y_test)\n",
    "rfc_undersamp_f1=f1_score(rfc_undersamp_prediction,y_test)\n",
    "rfc_undersamp_precision=precision_score(rfc_undersamp_prediction,y_test)\n",
    "rfc_undersamp_recall=recall_score(rfc_undersamp_prediction,y_test)\n",
    "#rfc_undersamp=[rfc_undersamp_accuracy, rfc_undersamp_f1]\n",
    "accuracy_under_sampling.append(rfc_undersamp_accuracy)\n",
    "f1_under_sampling.append(rfc_undersamp_f1)\n",
    "precision_under_sampling.append(rfc_undersamp_precision)\n",
    "recall_under_sampling.append(rfc_undersamp_recall)"
   ]
  },
  {
   "cell_type": "code",
   "execution_count": null,
   "metadata": {},
   "outputs": [],
   "source": [
    "#rfc smote\n",
    "rfc_oversamp_smote=rfc.fit(x_smote,y_smote)\n",
    "rfc_oversamp_smote_prediction=rfc_oversamp_smote.predict(x_test)\n",
    "rfc_oversamp_smote_accuracy=accuracy_score(rfc_oversamp_smote_prediction,y_test)\n",
    "rfc_oversamp_smote_f1=f1_score(rfc_oversamp_smote_prediction,y_test)\n",
    "rfc_oversamp_smote_precision=precision_score(rfc_oversamp_smote_prediction,y_test)\n",
    "rfc_oversamp_smote_recall=recall_score(rfc_oversamp_smote_prediction,y_test)\n",
    "#rfc_smote=[rfc_oversamp_smote_accuracy, rfc_oversamp_smote_f1]\n",
    "accuracy_smote_sampling.append(rfc_oversamp_smote_accuracy)\n",
    "f1_smote_sampling.append(rfc_oversamp_smote_f1)\n",
    "precision_smote_sampling.append(rfc_oversamp_smote_precision)\n",
    "recall_smote_sampling.append(rfc_oversamp_smote_recall)"
   ]
  },
  {
   "cell_type": "code",
   "execution_count": null,
   "metadata": {},
   "outputs": [],
   "source": [
    "#rfc cnn\n",
    "rfc_oversamp_cnn=rfc.fit(x_cnn,y_cnn)\n",
    "rfc_oversamp_cnn_prediction=rfc_oversamp_cnn.predict(x_test)\n",
    "rfc_oversamp_cnn_accuracy=accuracy_score(rfc_oversamp_cnn_prediction,y_test)\n",
    "rfc_oversamp_cnn_f1=f1_score(rfc_oversamp_cnn_prediction,y_test)\n",
    "rfc_oversamp_cnn_precision=precision_score(rfc_oversamp_cnn_prediction,y_test)\n",
    "rfc_oversamp_cnn_recall=recall_score(rfc_oversamp_cnn_prediction,y_test)\n",
    "#rfc_smote=[rfc_oversamp_smote_accuracy, rfc_oversamp_smote_f1]\n",
    "accuracy_cnn_sampling.append(rfc_oversamp_cnn_accuracy)\n",
    "f1_cnn_sampling.append(rfc_oversamp_cnn_f1)\n",
    "precision_cnn_sampling.append(rfc_oversamp_cnn_precision)\n",
    "recall_cnn_sampling.append(rfc_oversamp_cnn_recall)"
   ]
  },
  {
   "cell_type": "code",
   "execution_count": null,
   "metadata": {},
   "outputs": [],
   "source": [
    "accuracy_no_sampling\n",
    "accuracy_over_sampling\n",
    "accuracy_under_sampling\n",
    "accuracy_smote_sampling\n",
    "f1_no_sampling\n",
    "f1_over_sampling\n",
    "f1_under_sampling\n",
    "f1_smote_sampling"
   ]
  },
  {
   "cell_type": "code",
   "execution_count": null,
   "metadata": {},
   "outputs": [],
   "source": [
    "print(accuracy_no_sampling)\n",
    "print(accuracy_over_sampling)\n",
    "print(accuracy_under_sampling)\n",
    "print(accuracy_smote_sampling)\n",
    "print(accuracy_cnn_sampling)\n",
    "print('f1')\n",
    "print(f1_no_sampling)\n",
    "print(f1_over_sampling)\n",
    "print(f1_under_sampling)\n",
    "print(f1_smote_sampling)\n",
    "print(f1_cnn_sampling)\n",
    "print(' prec')\n",
    "print(precision_no_sampling)\n",
    "print(precision_over_sampling)\n",
    "print(precision_under_sampling)\n",
    "print(precision_smote_sampling)\n",
    "print(precision_cnn_sampling)\n",
    "print('recall')\n",
    "print(recall_no_sampling)\n",
    "print(recall_over_sampling)\n",
    "print(recall_under_sampling)\n",
    "print(recall_smote_sampling)\n",
    "print(recall_cnn_sampling)\n"
   ]
  },
  {
   "cell_type": "code",
   "execution_count": null,
   "metadata": {},
   "outputs": [],
   "source": [
    "methods=['Decision Tree','ada','Random Forest',]\n",
    "sampling=['no sampling','over sampling','under sampling','smote','cnn']\n",
    "x=np.arange(3)\n",
    "width=0.15\n",
    "\n",
    "plt.bar(x-0.2, accuracy_no_sampling, width,color='blue')\n",
    "plt.bar(x-0.05, accuracy_over_sampling, width,color ='orange')\n",
    "plt.bar(x+0.1, accuracy_under_sampling,width,color='green')\n",
    "plt.bar(x+0.25, accuracy_smote_sampling, width,color='pink')\n",
    "plt.bar(x+0.4, accuracy_cnn_sampling, width,color='black')\n",
    "# Add some text for labels, title and custom x-axis tick labels, etc.\n",
    "plt.ylabel(' Accuracy Scores')\n",
    "plt.xlabel('Method')\n",
    "#ax.set_title('Scores by method and sampling')\n",
    "plt.xticks(x,methods)\n",
    "plt.legend(sampling)\n",
    "\n",
    "plt.show()\n",
    "\n"
   ]
  },
  {
   "cell_type": "code",
   "execution_count": null,
   "metadata": {},
   "outputs": [],
   "source": [
    "methods=['Decision Tree','ada','Random Forest']\n",
    "sampling=['no sampling','over sampling','under sampling','smote','cnn']\n",
    "x=np.arange(3)\n",
    "width=0.15\n",
    "\n",
    "plt.bar(x-0.2, f1_no_sampling, width,color='blue')\n",
    "plt.bar(x-0.05, f1_over_sampling, width,color ='orange')\n",
    "plt.bar(x+0.1, f1_under_sampling,width,color='green')\n",
    "plt.bar(x+0.25, f1_smote_sampling, width,color='pink')\n",
    "plt.bar(x+0.4, f1_cnn_sampling, width,color='black')\n",
    "# Add some text for labels, title and custom x-axis tick labels, etc.\n",
    "plt.ylabel(' F1 Scores')\n",
    "plt.xlabel('Method')\n",
    "#ax.set_title('Scores by method and sampling')\n",
    "plt.xticks(x,methods)\n",
    "plt.legend(sampling)\n",
    "\n",
    "plt.show()"
   ]
  },
  {
   "cell_type": "code",
   "execution_count": null,
   "metadata": {},
   "outputs": [],
   "source": [
    "methods=['Decision Tree','ada','Random Forest']\n",
    "sampling=['no sampling','over sampling','under sampling','smote','cnn']\n",
    "x=np.arange(3)\n",
    "width=0.15\n",
    "\n",
    "plt.bar(x-0.2, precision_no_sampling, width,color='blue')\n",
    "plt.bar(x-0.05, precision_over_sampling, width,color ='orange')\n",
    "plt.bar(x+0.1, precision_under_sampling,width,color='green')\n",
    "plt.bar(x+0.25, precision_smote_sampling, width,color='pink')\n",
    "plt.bar(x+0.4, precision_cnn_sampling, width,color='black')\n",
    "# Add some text for labels, title and custom x-axis tick labels, etc.\n",
    "plt.ylabel(' Precision Scores')\n",
    "plt.xlabel('Method')\n",
    "#ax.set_title('Scores by method and sampling')\n",
    "plt.xticks(x,methods)\n",
    "plt.legend(sampling)\n",
    "\n",
    "plt.show()"
   ]
  },
  {
   "cell_type": "code",
   "execution_count": null,
   "metadata": {},
   "outputs": [],
   "source": [
    "methods=['Decision Tree','ada','Random Forest']\n",
    "sampling=['no sampling','over sampling','under sampling','smote','cnn']\n",
    "x=np.arange(3)\n",
    "width=0.15\n",
    "\n",
    "plt.bar(x-0.2, recall_no_sampling, width,color='blue')\n",
    "plt.bar(x-0.05, recall_over_sampling, width,color ='orange')\n",
    "plt.bar(x+0.1, recall_under_sampling,width,color='green')\n",
    "plt.bar(x+0.25, recall_smote_sampling, width,color='pink')\n",
    "plt.bar(x+0.4, recall_cnn_sampling, width,color='black')\n",
    "# Add some text for labels, title and custom x-axis tick labels, etc.\n",
    "plt.ylabel(' recall')\n",
    "plt.xlabel('Method')\n",
    "#ax.set_title('Scores by method and sampling')\n",
    "plt.xticks(x,methods)\n",
    "plt.legend(sampling)\n",
    "\n",
    "plt.show()"
   ]
  },
  {
   "cell_type": "code",
   "execution_count": null,
   "metadata": {},
   "outputs": [],
   "source": [
    "methods=['Decision Tree']\n",
    "sampling=['no sampling','over sampling','under sampling','smote']\n",
    "x=np.arange(1)\n",
    "width=0.2\n",
    "\n",
    "plt.bar(x-0.2, fbeta_no_sampling, width,color='blue')\n",
    "plt.bar(x, fbeta_over_sampling, width,color ='orange')\n",
    "plt.bar(x+0.2, fbeta_under_sampling,width,color='green')\n",
    "plt.bar(x+0.4, fbeta_smote_sampling, width,color='pink')\n",
    "# Add some text for labels, title and custom x-axis tick labels, etc.\n",
    "plt.ylabel(' F1 Scores')\n",
    "plt.xlabel('Method')\n",
    "ax.set_title('Scores by method and sampling')\n",
    "plt.xticks(x,methods)\n",
    "plt.legend(sampling)\n",
    "\n",
    "plt.show()"
   ]
  },
  {
   "cell_type": "raw",
   "metadata": {},
   "source": [
    "x = np.arange(5)\n",
    "y1 = [34, 56, 12, 89, 67]\n",
    "y2 = [12, 56, 78, 45, 90]\n",
    "y3 = [14, 23, 45, 25, 89]\n",
    "width = 0.2\n",
    "  \n",
    "# plot data in grouped manner of bar type\n",
    "plt.bar(x-0.2, y1, width, color='cyan')\n",
    "plt.bar(x, y2, width, color='orange')\n",
    "plt.bar(x+0.2, y3, width, color='green')\n",
    "plt.xticks(x, ['Team A', 'Team B', 'Team C', 'Team D', 'Team E'])\n",
    "plt.xlabel(\"Teams\")\n",
    "plt.ylabel(\"Scores\")\n",
    "plt.legend([\"Round 1\", \"Round 2\", \"Round 3\"])"
   ]
  }
 ],
 "metadata": {
  "kernelspec": {
   "display_name": "Python 3",
   "language": "python",
   "name": "python3"
  },
  "language_info": {
   "codemirror_mode": {
    "name": "ipython",
    "version": 3
   },
   "file_extension": ".py",
   "mimetype": "text/x-python",
   "name": "python",
   "nbconvert_exporter": "python",
   "pygments_lexer": "ipython3",
   "version": "3.8.5"
  }
 },
 "nbformat": 4,
 "nbformat_minor": 4
}
