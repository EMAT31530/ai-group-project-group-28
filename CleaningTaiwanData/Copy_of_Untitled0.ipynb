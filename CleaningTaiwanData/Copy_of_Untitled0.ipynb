{
 "cells": [
  {
   "cell_type": "code",
   "execution_count": 3,
   "metadata": {},
   "outputs": [
    {
     "name": "stdout",
     "output_type": "stream",
     "text": [
      "Collecting tensorflow\n",
      "  Using cached tensorflow-2.8.0-cp38-cp38-win_amd64.whl (438.0 MB)\n",
      "Collecting keras-preprocessing>=1.1.1Note: you may need to restart the kernel to use updated packages.\n",
      "\n",
      "  Using cached Keras_Preprocessing-1.1.2-py2.py3-none-any.whl (42 kB)\n",
      "Requirement already satisfied: h5py>=2.9.0 in c:\\users\\mollie\\documents\\python\\lib\\site-packages (from tensorflow) (2.10.0)\n",
      "Collecting tf-estimator-nightly==2.8.0.dev2021122109\n",
      "  Using cached tf_estimator_nightly-2.8.0.dev2021122109-py2.py3-none-any.whl (462 kB)\n",
      "Requirement already satisfied: typing-extensions>=3.6.6 in c:\\users\\mollie\\documents\\python\\lib\\site-packages (from tensorflow) (3.7.4.3)\n",
      "Collecting gast>=0.2.1\n",
      "  Using cached gast-0.5.3-py3-none-any.whl (19 kB)\n",
      "Collecting tensorboard<2.9,>=2.8\n",
      "  Using cached tensorboard-2.8.0-py3-none-any.whl (5.8 MB)\n",
      "Collecting grpcio<2.0,>=1.24.3\n",
      "  Using cached grpcio-1.44.0-cp38-cp38-win_amd64.whl (3.4 MB)\n",
      "Collecting google-pasta>=0.1.1\n",
      "  Using cached google_pasta-0.2.0-py3-none-any.whl (57 kB)\n",
      "Collecting libclang>=9.0.1\n",
      "  Using cached libclang-13.0.0-py2.py3-none-win_amd64.whl (13.9 MB)\n",
      "Requirement already satisfied: numpy>=1.20 in c:\\users\\mollie\\documents\\python\\lib\\site-packages (from tensorflow) (1.22.3)\n",
      "Collecting absl-py>=0.4.0\n",
      "  Using cached absl_py-1.0.0-py3-none-any.whl (126 kB)\n",
      "Requirement already satisfied: six>=1.12.0 in c:\\users\\mollie\\documents\\python\\lib\\site-packages (from tensorflow) (1.15.0)\n",
      "Collecting flatbuffers>=1.12\n",
      "  Using cached flatbuffers-2.0-py2.py3-none-any.whl (26 kB)\n",
      "Collecting tensorflow-io-gcs-filesystem>=0.23.1\n",
      "  Using cached tensorflow_io_gcs_filesystem-0.24.0-cp38-cp38-win_amd64.whl (1.5 MB)\n",
      "Requirement already satisfied: wrapt>=1.11.0 in c:\\users\\mollie\\documents\\python\\lib\\site-packages (from tensorflow) (1.11.2)\n",
      "Collecting astunparse>=1.6.0\n",
      "  Using cached astunparse-1.6.3-py2.py3-none-any.whl (12 kB)\n",
      "Processing c:\\users\\mollie\\appdata\\local\\pip\\cache\\wheels\\a0\\16\\9c\\5473df82468f958445479c59e784896fa24f4a5fc024b0f501\\termcolor-1.1.0-py3-none-any.whl\n",
      "Collecting opt-einsum>=2.3.2\n",
      "  Using cached opt_einsum-3.3.0-py3-none-any.whl (65 kB)\n",
      "Collecting keras<2.9,>=2.8.0rc0\n",
      "  Using cached keras-2.8.0-py2.py3-none-any.whl (1.4 MB)\n",
      "Requirement already satisfied: setuptools in c:\\users\\mollie\\documents\\python\\lib\\site-packages (from tensorflow) (50.3.1.post20201107)\n",
      "Collecting protobuf>=3.9.2\n",
      "  Using cached protobuf-3.19.4-cp38-cp38-win_amd64.whl (895 kB)\n",
      "Requirement already satisfied: requests<3,>=2.21.0 in c:\\users\\mollie\\documents\\python\\lib\\site-packages (from tensorboard<2.9,>=2.8->tensorflow) (2.24.0)\n",
      "Collecting tensorboard-data-server<0.7.0,>=0.6.0\n",
      "  Using cached tensorboard_data_server-0.6.1-py3-none-any.whl (2.4 kB)\n",
      "Requirement already satisfied: wheel>=0.26 in c:\\users\\mollie\\documents\\python\\lib\\site-packages (from tensorboard<2.9,>=2.8->tensorflow) (0.35.1)\n",
      "Collecting google-auth-oauthlib<0.5,>=0.4.1\n",
      "  Using cached google_auth_oauthlib-0.4.6-py2.py3-none-any.whl (18 kB)\n",
      "Collecting markdown>=2.6.8\n",
      "  Using cached Markdown-3.3.6-py3-none-any.whl (97 kB)\n",
      "Collecting google-auth<3,>=1.6.3\n",
      "  Using cached google_auth-2.6.0-py2.py3-none-any.whl (156 kB)\n",
      "Requirement already satisfied: werkzeug>=0.11.15 in c:\\users\\mollie\\documents\\python\\lib\\site-packages (from tensorboard<2.9,>=2.8->tensorflow) (1.0.1)\n",
      "Collecting tensorboard-plugin-wit>=1.6.0\n",
      "  Using cached tensorboard_plugin_wit-1.8.1-py3-none-any.whl (781 kB)\n",
      "Requirement already satisfied: certifi>=2017.4.17 in c:\\users\\mollie\\documents\\python\\lib\\site-packages (from requests<3,>=2.21.0->tensorboard<2.9,>=2.8->tensorflow) (2020.6.20)\n",
      "Requirement already satisfied: chardet<4,>=3.0.2 in c:\\users\\mollie\\documents\\python\\lib\\site-packages (from requests<3,>=2.21.0->tensorboard<2.9,>=2.8->tensorflow) (3.0.4)\n",
      "Requirement already satisfied: idna<3,>=2.5 in c:\\users\\mollie\\documents\\python\\lib\\site-packages (from requests<3,>=2.21.0->tensorboard<2.9,>=2.8->tensorflow) (2.10)\n",
      "Requirement already satisfied: urllib3!=1.25.0,!=1.25.1,<1.26,>=1.21.1 in c:\\users\\mollie\\documents\\python\\lib\\site-packages (from requests<3,>=2.21.0->tensorboard<2.9,>=2.8->tensorflow) (1.25.11)\n",
      "Collecting requests-oauthlib>=0.7.0\n",
      "  Using cached requests_oauthlib-1.3.1-py2.py3-none-any.whl (23 kB)\n",
      "Collecting importlib-metadata>=4.4; python_version < \"3.10\"\n",
      "  Using cached importlib_metadata-4.11.2-py3-none-any.whl (17 kB)\n",
      "Collecting cachetools<6.0,>=2.0.0\n",
      "  Using cached cachetools-5.0.0-py3-none-any.whl (9.1 kB)\n",
      "Collecting pyasn1-modules>=0.2.1\n",
      "  Using cached pyasn1_modules-0.2.8-py2.py3-none-any.whl (155 kB)\n",
      "Collecting rsa<5,>=3.1.4; python_version >= \"3.6\"\n",
      "  Using cached rsa-4.8-py3-none-any.whl (39 kB)\n",
      "Collecting oauthlib>=3.0.0\n",
      "  Using cached oauthlib-3.2.0-py3-none-any.whl (151 kB)\n",
      "Requirement already satisfied: zipp>=0.5 in c:\\users\\mollie\\documents\\python\\lib\\site-packages (from importlib-metadata>=4.4; python_version < \"3.10\"->markdown>=2.6.8->tensorboard<2.9,>=2.8->tensorflow) (3.4.0)\n",
      "Collecting pyasn1<0.5.0,>=0.4.6\n",
      "  Using cached pyasn1-0.4.8-py2.py3-none-any.whl (77 kB)\n",
      "Installing collected packages: keras-preprocessing, tf-estimator-nightly, gast, protobuf, absl-py, grpcio, tensorboard-data-server, oauthlib, requests-oauthlib, cachetools, pyasn1, pyasn1-modules, rsa, google-auth, google-auth-oauthlib, importlib-metadata, markdown, tensorboard-plugin-wit, tensorboard, google-pasta, libclang, flatbuffers, tensorflow-io-gcs-filesystem, astunparse, termcolor, opt-einsum, keras, tensorflow\n",
      "  Attempting uninstall: importlib-metadata\n",
      "    Found existing installation: importlib-metadata 2.0.0\n",
      "    Uninstalling importlib-metadata-2.0.0:\n",
      "      Successfully uninstalled importlib-metadata-2.0.0\n",
      "Successfully installed absl-py-1.0.0 astunparse-1.6.3 cachetools-5.0.0 flatbuffers-2.0 gast-0.5.3 google-auth-2.6.0 google-auth-oauthlib-0.4.6 google-pasta-0.2.0 grpcio-1.44.0 importlib-metadata-4.11.2 keras-2.8.0 keras-preprocessing-1.1.2 libclang-13.0.0 markdown-3.3.6 oauthlib-3.2.0 opt-einsum-3.3.0 protobuf-3.19.4 pyasn1-0.4.8 pyasn1-modules-0.2.8 requests-oauthlib-1.3.1 rsa-4.8 tensorboard-2.8.0 tensorboard-data-server-0.6.1 tensorboard-plugin-wit-1.8.1 tensorflow-2.8.0 tensorflow-io-gcs-filesystem-0.24.0 termcolor-1.1.0 tf-estimator-nightly-2.8.0.dev2021122109\n"
     ]
    }
   ],
   "source": [
    "pip install tensorflow"
   ]
  },
  {
   "cell_type": "code",
   "execution_count": 4,
   "metadata": {
    "id": "pFrh2vxh2MXR"
   },
   "outputs": [],
   "source": [
    "from tensorflow.keras.layers import Dense, Dropout\n",
    "from tensorflow.keras.models import Sequential, Model\n",
    "from tensorflow.keras import metrics, Input\n",
    "import pandas as pd\n",
    "import numpy as np\n",
    "import matplotlib.pyplot as plt\n",
    "from sklearn.model_selection import train_test_split"
   ]
  },
  {
   "cell_type": "code",
   "execution_count": 5,
   "metadata": {
    "id": "kcwtnwWg2Ovz"
   },
   "outputs": [],
   "source": [
    "METRICS = [metrics.RootMeanSquaredError(name='rms'), metrics.MeanAbsoluteError(name='mae')]"
   ]
  },
  {
   "cell_type": "code",
   "execution_count": 6,
   "metadata": {
    "id": "gZpX3_8S2Vci"
   },
   "outputs": [],
   "source": [
    "ENCODING_DIM = 16 #Desired Dimension\n",
    "BATCH_SIZE = 64\n",
    "EPOCHS = 50"
   ]
  },
  {
   "cell_type": "code",
   "execution_count": 7,
   "metadata": {
    "id": "WyinKqFh2WeK"
   },
   "outputs": [],
   "source": [
    "def make_and_train_autoencoder(X_train, metrics=METRICS):\n",
    "    \n",
    "    len_input_output = X_train.shape[-1]\n",
    "    input_ = Input(shape=(len_input_output,))\n",
    "    encoded = Dense(units=ENCODING_DIM*2, activation=\"relu\")(input_)\n",
    "    bottleneck = Dense(units=ENCODING_DIM, \n",
    "                       activation=\"relu\")(encoded)\n",
    "    decoded = Dense(units=ENCODING_DIM*2, \n",
    "                    activation=\"relu\")(bottleneck)\n",
    "    output = Dense(units=len_input_output, \n",
    "                    activation=\"linear\")(decoded)\n",
    "    #Training is performed on the entire autoencoder\n",
    "    autoencoder = Model(inputs=input_, outputs=output)\n",
    "    autoencoder.compile(optimizer='adam', loss='mean_squared_error',\n",
    "                        metrics=[metrics])\n",
    "    autoencoder.fit(X_train, X_train,\n",
    "                    batch_size=BATCH_SIZE,\n",
    "                    epochs=EPOCHS)\n",
    "    #Use only the encoder part for dimensionality reduction\n",
    "    encoder = Model(inputs=input_, outputs=bottleneck)\n",
    "    return autoencoder, encoder"
   ]
  },
  {
   "cell_type": "code",
   "execution_count": 8,
   "metadata": {
    "id": "O30z5nvX2YL6"
   },
   "outputs": [],
   "source": [
    "df = pd.read_csv('normalised_clean_data.csv')\n",
    "X, y = df.iloc[:,:-1], df.iloc[:, -1]\n",
    "\n",
    "\n"
   ]
  },
  {
   "cell_type": "code",
   "execution_count": 15,
   "metadata": {
    "colab": {
     "base_uri": "https://localhost:8080/"
    },
    "id": "yYTAVLZT25fK",
    "outputId": "db6f9a10-aecf-42bc-d511-6a6df3e3df28"
   },
   "outputs": [
    {
     "name": "stdout",
     "output_type": "stream",
     "text": [
      "Epoch 1/50\n",
      "469/469 [==============================] - 2s 3ms/step - loss: 0.0083 - rms: 0.0645 - mae: 0.0271\n",
      "Epoch 2/50\n",
      "469/469 [==============================] - 1s 3ms/step - loss: 9.2416e-04 - rms: 0.0304 - mae: 0.0167\n",
      "Epoch 3/50\n",
      "469/469 [==============================] - 1s 3ms/step - loss: 5.2490e-04 - rms: 0.0229 - mae: 0.0110\n",
      "Epoch 4/50\n",
      "469/469 [==============================] - 1s 3ms/step - loss: 4.3876e-04 - rms: 0.0209 - mae: 0.0099\n",
      "Epoch 5/50\n",
      "469/469 [==============================] - 1s 3ms/step - loss: 3.5741e-04 - rms: 0.0189 - mae: 0.0091\n",
      "Epoch 6/50\n",
      "469/469 [==============================] - 1s 3ms/step - loss: 2.8780e-04 - rms: 0.0170 - mae: 0.0081\n",
      "Epoch 7/50\n",
      "469/469 [==============================] - 1s 3ms/step - loss: 2.5099e-04 - rms: 0.0158 - mae: 0.0072\n",
      "Epoch 8/50\n",
      "469/469 [==============================] - 1s 3ms/step - loss: 2.3548e-04 - rms: 0.0153 - mae: 0.0069\n",
      "Epoch 9/50\n",
      "469/469 [==============================] - 1s 3ms/step - loss: 2.2614e-04 - rms: 0.0150 - mae: 0.0068\n",
      "Epoch 10/50\n",
      "469/469 [==============================] - 1s 3ms/step - loss: 2.1731e-04 - rms: 0.0147 - mae: 0.0067\n",
      "Epoch 11/50\n",
      "469/469 [==============================] - 1s 3ms/step - loss: 2.0663e-04 - rms: 0.0144 - mae: 0.0064\n",
      "Epoch 12/50\n",
      "469/469 [==============================] - 1s 3ms/step - loss: 1.9720e-04 - rms: 0.0140 - mae: 0.0059\n",
      "Epoch 13/50\n",
      "469/469 [==============================] - 1s 3ms/step - loss: 1.9122e-04 - rms: 0.0138 - mae: 0.0055\n",
      "Epoch 14/50\n",
      "469/469 [==============================] - 1s 3ms/step - loss: 1.8951e-04 - rms: 0.0138 - mae: 0.0052\n",
      "Epoch 15/50\n",
      "469/469 [==============================] - 1s 3ms/step - loss: 1.8798e-04 - rms: 0.0137 - mae: 0.0051\n",
      "Epoch 16/50\n",
      "469/469 [==============================] - 1s 3ms/step - loss: 1.8689e-04 - rms: 0.0137 - mae: 0.0050\n",
      "Epoch 17/50\n",
      "469/469 [==============================] - 1s 3ms/step - loss: 1.8557e-04 - rms: 0.0136 - mae: 0.0049\n",
      "Epoch 18/50\n",
      "469/469 [==============================] - 1s 3ms/step - loss: 1.8657e-04 - rms: 0.0137 - mae: 0.0050\n",
      "Epoch 19/50\n",
      "469/469 [==============================] - 1s 2ms/step - loss: 1.8550e-04 - rms: 0.0136 - mae: 0.0049\n",
      "Epoch 20/50\n",
      "469/469 [==============================] - 1s 2ms/step - loss: 1.8547e-04 - rms: 0.0136 - mae: 0.0049\n",
      "Epoch 21/50\n",
      "469/469 [==============================] - 1s 3ms/step - loss: 1.8481e-04 - rms: 0.0136 - mae: 0.0049\n",
      "Epoch 22/50\n",
      "469/469 [==============================] - 1s 3ms/step - loss: 1.8544e-04 - rms: 0.0136 - mae: 0.0049\n",
      "Epoch 23/50\n",
      "469/469 [==============================] - 2s 3ms/step - loss: 1.8503e-04 - rms: 0.0136 - mae: 0.0049\n",
      "Epoch 24/50\n",
      "469/469 [==============================] - 2s 3ms/step - loss: 1.8511e-04 - rms: 0.0136 - mae: 0.0049\n",
      "Epoch 25/50\n",
      "469/469 [==============================] - 1s 3ms/step - loss: 1.8472e-04 - rms: 0.0136 - mae: 0.0049\n",
      "Epoch 26/50\n",
      "469/469 [==============================] - 1s 3ms/step - loss: 1.8488e-04 - rms: 0.0136 - mae: 0.0049\n",
      "Epoch 27/50\n",
      "469/469 [==============================] - 1s 3ms/step - loss: 1.8513e-04 - rms: 0.0136 - mae: 0.0049\n",
      "Epoch 28/50\n",
      "469/469 [==============================] - 1s 2ms/step - loss: 1.8464e-04 - rms: 0.0136 - mae: 0.0048\n",
      "Epoch 29/50\n",
      "469/469 [==============================] - 1s 2ms/step - loss: 1.8414e-04 - rms: 0.0136 - mae: 0.0048\n",
      "Epoch 30/50\n",
      "469/469 [==============================] - 1s 2ms/step - loss: 1.8554e-04 - rms: 0.0136 - mae: 0.0049\n",
      "Epoch 31/50\n",
      "469/469 [==============================] - 1s 2ms/step - loss: 1.8466e-04 - rms: 0.0136 - mae: 0.0049\n",
      "Epoch 32/50\n",
      "469/469 [==============================] - 1s 2ms/step - loss: 1.8410e-04 - rms: 0.0136 - mae: 0.0048\n",
      "Epoch 33/50\n",
      "469/469 [==============================] - 1s 2ms/step - loss: 1.8481e-04 - rms: 0.0136 - mae: 0.0049\n",
      "Epoch 34/50\n",
      "469/469 [==============================] - 1s 2ms/step - loss: 1.8404e-04 - rms: 0.0136 - mae: 0.0048\n",
      "Epoch 35/50\n",
      "469/469 [==============================] - 1s 2ms/step - loss: 1.8478e-04 - rms: 0.0136 - mae: 0.0049\n",
      "Epoch 36/50\n",
      "469/469 [==============================] - 1s 3ms/step - loss: 1.8470e-04 - rms: 0.0136 - mae: 0.0049\n",
      "Epoch 37/50\n",
      "469/469 [==============================] - 1s 3ms/step - loss: 1.8417e-04 - rms: 0.0136 - mae: 0.0048\n",
      "Epoch 38/50\n",
      "469/469 [==============================] - 1s 2ms/step - loss: 1.8416e-04 - rms: 0.0136 - mae: 0.0048\n",
      "Epoch 39/50\n",
      "469/469 [==============================] - 1s 3ms/step - loss: 1.8408e-04 - rms: 0.0136 - mae: 0.0048\n",
      "Epoch 40/50\n",
      "469/469 [==============================] - 1s 3ms/step - loss: 1.8467e-04 - rms: 0.0136 - mae: 0.0049\n",
      "Epoch 41/50\n",
      "469/469 [==============================] - 1s 3ms/step - loss: 1.8386e-04 - rms: 0.0136 - mae: 0.0048\n",
      "Epoch 42/50\n",
      "469/469 [==============================] - 1s 3ms/step - loss: 1.8471e-04 - rms: 0.0136 - mae: 0.0049\n",
      "Epoch 43/50\n",
      "469/469 [==============================] - 1s 3ms/step - loss: 1.8414e-04 - rms: 0.0136 - mae: 0.0048\n",
      "Epoch 44/50\n",
      "469/469 [==============================] - 1s 3ms/step - loss: 1.8455e-04 - rms: 0.0136 - mae: 0.0048\n",
      "Epoch 45/50\n",
      "469/469 [==============================] - 1s 3ms/step - loss: 1.8425e-04 - rms: 0.0136 - mae: 0.0048\n",
      "Epoch 46/50\n",
      "469/469 [==============================] - 1s 3ms/step - loss: 1.8353e-04 - rms: 0.0135 - mae: 0.0048\n",
      "Epoch 47/50\n",
      "469/469 [==============================] - 1s 3ms/step - loss: 1.8372e-04 - rms: 0.0136 - mae: 0.0048\n",
      "Epoch 48/50\n",
      "469/469 [==============================] - 1s 3ms/step - loss: 1.8368e-04 - rms: 0.0136 - mae: 0.0048\n",
      "Epoch 49/50\n",
      "469/469 [==============================] - 1s 3ms/step - loss: 1.8408e-04 - rms: 0.0136 - mae: 0.0048\n",
      "Epoch 50/50\n",
      "469/469 [==============================] - 1s 3ms/step - loss: 1.8467e-04 - rms: 0.0136 - mae: 0.0049\n"
     ]
    }
   ],
   "source": [
    "for i in [16]:\n",
    "  ENCODING_DIM = i\n",
    "  auto, encode = make_and_train_autoencoder(X, metrics=METRICS)\n",
    "  q = encode.predict(X)\n",
    "  w = np.array(q)\n",
    "  df = pd.DataFrame(data=w,index=None,columns=None)\n",
    "  df['label'] = y\n",
    "  name = \"data \" + str(i)\n",
    "  df.to_csv('data16.csv', index=False)"
   ]
  },
  {
   "cell_type": "code",
   "execution_count": 16,
   "metadata": {
    "id": "U2nw1Q1132LR"
   },
   "outputs": [],
   "source": [
    "df = pd.read_csv('data16.csv')"
   ]
  },
  {
   "cell_type": "code",
   "execution_count": 17,
   "metadata": {
    "id": "fnnqjLOs7otF"
   },
   "outputs": [],
   "source": [
    "df_train, df_test_valid = train_test_split( df ,stratify=df['label'], test_size=0.3)\n",
    "df_test, df_validation = train_test_split( df_test_valid, stratify=df_test_valid['label'], test_size=0.5)"
   ]
  },
  {
   "cell_type": "code",
   "execution_count": 18,
   "metadata": {
    "id": "9ZAR3pwP79Zt"
   },
   "outputs": [],
   "source": [
    "df_train.to_csv('training_set_autoencoded.csv', index=False)\n",
    "df_validation.to_csv('validation_set_autoencoded.csv', index=False)\n",
    "df_test.to_csv('test_set_autoencoded.csv', index=False)"
   ]
  }
 ],
 "metadata": {
  "colab": {
   "name": "Copy of Untitled0.ipynb",
   "provenance": []
  },
  "kernelspec": {
   "display_name": "Python 3",
   "language": "python",
   "name": "python3"
  }
 },
 "nbformat": 4,
 "nbformat_minor": 1
}
