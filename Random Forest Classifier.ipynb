{
 "cells": [
  {
   "cell_type": "code",
   "execution_count": 169,
   "metadata": {},
   "outputs": [],
   "source": [
    "import numpy as np\n",
    "import pandas as pd\n",
    "from matplotlib import pyplot as plt\n",
    "from sklearn.model_selection import train_test_split\n",
    "from sklearn.tree import DecisionTreeClassifier\n",
    "from sklearn import tree"
   ]
  },
  {
   "cell_type": "code",
   "execution_count": 76,
   "metadata": {},
   "outputs": [],
   "source": [
    "from imblearn.over_sampling import RandomOverSampler\n",
    "from imblearn.under_sampling import RandomUnderSampler\n",
    "from imblearn.over_sampling import SMOTE\n",
    "\n",
    "#condensed nearest neighbours\n"
   ]
  },
  {
   "cell_type": "code",
   "execution_count": 77,
   "metadata": {},
   "outputs": [],
   "source": [
    "from collections import Counter\n",
    "from sklearn.metrics import f1_score\n",
    "from sklearn.metrics import accuracy_score\n",
    "from sklearn.metrics import roc_curve, auc, roc_auc_score"
   ]
  },
  {
   "cell_type": "code",
   "execution_count": 170,
   "metadata": {},
   "outputs": [],
   "source": [
    "df=pd.read_csv(r'C:\\Users\\Mollie\\Documents\\Uni 3\\AI\\AI project\\ActualActualData\\training_set.csv')\n",
    "df_ROS=pd.read_csv(r'C:\\Users\\Mollie\\Documents\\Uni 3\\AI\\AI project\\ActualActualData\\training_ROS.csv')\n",
    "df_RUS=pd.read_csv(r'C:\\Users\\Mollie\\Documents\\Uni 3\\AI\\AI project\\ActualActualData\\training_RUS.csv')\n",
    "df_SMOTE=pd.read_csv(r'C:\\Users\\Mollie\\Documents\\Uni 3\\AI\\AI project\\ActualActualData\\training_SMOTE.csv')\n",
    "df_test=pd.read_csv(r'C:\\Users\\Mollie\\Documents\\Uni 3\\AI\\AI project\\ActualActualData\\test_set.csv')\n",
    "df.head()\n",
    "x_train=df.iloc[:,:-1]\n",
    "y_train=df.iloc[:,-1]\n",
    "x_ov=df_ROS.iloc[:,:-1]\n",
    "y_ov=df_ROS.iloc[:,-1]\n",
    "x_under = df_RUS.iloc[:,:-1]\n",
    "y_under=df_RUS.iloc[:,-1]\n",
    "x_smote=df_SMOTE.iloc[:,:-1]\n",
    "y_smote=df_SMOTE.iloc[:,-1]\n",
    "x_test=df_test.iloc[:,:-1]\n",
    "y_test=df_test.iloc[:,-1]\n",
    "accuracy_no_sampling=[]\n",
    "accuracy_over_sampling=[]\n",
    "accuracy_under_sampling=[]\n",
    "accuracy_smote_sampling=[]\n",
    "f1_no_sampling=[]\n",
    "f1_over_sampling=[]\n",
    "f1_under_sampling=[]\n",
    "f1_smote_sampling=[]"
   ]
  },
  {
   "cell_type": "code",
   "execution_count": 217,
   "metadata": {},
   "outputs": [],
   "source": [
    "f1_under_sampling=[]\n",
    "f1_smote_sampling=[]\n",
    "accuracy_under_sampling=[]\n",
    "accuracy_smote_sampling=[]"
   ]
  },
  {
   "cell_type": "code",
   "execution_count": 172,
   "metadata": {},
   "outputs": [],
   "source": [
    "clf =tree.DecisionTreeClassifier()"
   ]
  },
  {
   "cell_type": "code",
   "execution_count": 173,
   "metadata": {},
   "outputs": [
    {
     "data": {
      "text/plain": [
       "[0.41137440758293836]"
      ]
     },
     "execution_count": 173,
     "metadata": {},
     "output_type": "execute_result"
    }
   ],
   "source": [
    "#nosampling\n",
    "clf_nosamp=clf.fit(x_train,y_train)\n",
    "clf_nosamp_prediction=clf_nosamp.predict(x_test)\n",
    "clf_nosamp_accuracy=accuracy_score(clf_nosamp_prediction,y_test)\n",
    "clf_nosamp_f1=f1_score(clf_nosamp_prediction,y_test)\n",
    "clf_nosamp=[clf_nosamp_accuracy,nosamp_f1]\n",
    "accuracy_no_sampling.append(clf_nosamp_accuracy)\n",
    "f1_no_sampling.append(clf_nosamp_f1)\n",
    "f1_no_sampling"
   ]
  },
  {
   "cell_type": "code",
   "execution_count": 174,
   "metadata": {},
   "outputs": [],
   "source": [
    "#oversampling\n",
    "#now we make the decision tree with our new smaples\n",
    "clf_oversamp=clf.fit(x_ov,y_ov)\n",
    "clf_oversamp_prediction=clf_oversamp.predict(x_test)\n",
    "clf_oversamp_accuracy=accuracy_score(clf_oversamp_prediction,y_test)\n",
    "clf_oversamp_f1=f1_score(clf_oversamp_prediction,y_test)\n",
    "clf_oversamp=[oversamp_accuracy,oversamp_f1]\n",
    "accuracy_over_sampling.append(clf_oversamp_accuracy)\n",
    "f1_over_sampling.append(clf_oversamp_f1)"
   ]
  },
  {
   "cell_type": "code",
   "execution_count": 218,
   "metadata": {},
   "outputs": [
    {
     "name": "stdout",
     "output_type": "stream",
     "text": [
      "Training target statistics: Counter({0.0: 4645, 1.0: 4645})\n",
      "Testing target statistics: Counter({0.0: 3505, 1.0: 995})\n"
     ]
    }
   ],
   "source": [
    "#undersampling\n",
    "print(f\"Training target statistics: {Counter(y_under)}\")\n",
    "print(f\"Testing target statistics: {Counter(y_test)}\")\n",
    "#here we have undersampled so in the training set there are 2743 in each catagory\n",
    "#now we make the decision tree with our new smaples\n",
    "clf_undersamp=clf.fit(x_under,y_under)\n",
    "clf_undersamp_prediction=clf_undersamp.predict(x_test)\n",
    "clf_undersamp_accuracy=accuracy_score(clf_undersamp_prediction,y_test)\n",
    "clf_undersamp_f1=f1_score(undersamp_prediction,y_test)\n",
    "clf_undersamp=[undersamp_accuracy,undersamp_f1]\n",
    "accuracy_under_sampling.append(clf_undersamp_accuracy)\n",
    "f1_under_sampling.append(clf_undersamp_f1)"
   ]
  },
  {
   "cell_type": "code",
   "execution_count": 219,
   "metadata": {},
   "outputs": [],
   "source": [
    "#smote sampling\n",
    "oversample_smote = SMOTE()\n",
    "clf_oversamp_smote=clf.fit(x_smote,y_smote)\n",
    "clf_oversamp_smote_prediction=clf_oversamp_smote.predict(x_test)\n",
    "clf_oversamp_smote_accuracy=accuracy_score(clf_oversamp_smote_prediction,y_test)\n",
    "clf_oversamp_smote_f1=f1_score(clf_oversamp_smote_prediction,y_test)\n",
    "clf_smote=[oversamp_smote_accuracy,oversamp_smote_f1]\n",
    "accuracy_smote_sampling.append(clf_oversamp_smote_accuracy)\n",
    "f1_smote_sampling.append(clf_oversamp_smote_f1)"
   ]
  },
  {
   "cell_type": "code",
   "execution_count": 88,
   "metadata": {},
   "outputs": [],
   "source": [
    "from sklearn.ensemble import RandomForestClassifier\n",
    "from sklearn import ensemble"
   ]
  },
  {
   "cell_type": "code",
   "execution_count": 128,
   "metadata": {},
   "outputs": [],
   "source": [
    "#we first find the optimal number of trees in the random forest (TAKES AGES TO RUN) and from the results choose 100 also not sure why zigzag\n",
    "def optimal_trees(x_train, y_train, array, x_test):\n",
    "    accuracy_list =[]\n",
    "    f1_list=[]\n",
    "    for i in array:\n",
    "        rfc =ensemble.RandomForestClassifier(n_estimators=i)\n",
    "        rfc_nosamp=rfc.fit(x_train,y_train)\n",
    "        rfc_nosamp_prediction=rfc_nosamp.predict(x_test)\n",
    "        rfc_nosamp_accuracy=accuracy_score(rfc_nosamp_prediction,y_test)\n",
    "        rfc_nosamp_f1=f1_score(rfc_nosamp_prediction,y_test)\n",
    "        rfc_nosamp_scores= [rfc_nosamp_accuracy, rfc_nosamp_f1]\n",
    "        accuracy_list.append(rfc_nosamp_accuracy)\n",
    "        f1_list.append(rfc_nosamp_f1)\n",
    "    print(accuracy_list,f1_list)\n",
    "    plt.plot(array, accuracy_list)\n",
    "    plt.xlabel('no_of_tres')\n",
    "    plt.ylabel('score')\n",
    "    plt.show()\n",
    "    plt.plot(array, f1_list)\n",
    "    plt.show()\n",
    "    return('hi')\n",
    " \n",
    "    \n",
    "\n",
    "    \n",
    "    "
   ]
  },
  {
   "cell_type": "code",
   "execution_count": 131,
   "metadata": {},
   "outputs": [
    {
     "name": "stdout",
     "output_type": "stream",
     "text": [
      "[0.81, 0.8128888888888889, 0.8193333333333334, 0.816, 0.8191111111111111, 0.8151111111111111, 0.8195555555555556, 0.8215555555555556, 0.8173333333333334, 0.8202222222222222, 0.8175555555555556, 0.8182222222222222, 0.8195555555555556, 0.8182222222222222] [0.46192573945877907, 0.47176913425345046, 0.4811742182514358, 0.4739517153748412, 0.483502538071066, 0.46803069053708446, 0.4873737373737373, 0.49591964846202136, 0.4804045512010114, 0.48569612205975843, 0.48591108328115207, 0.48227848101265824, 0.4873737373737373, 0.48875]\n"
     ]
    },
    {
     "data": {
      "image/png": "[encoded data removed]",
      "text/plain": [
       "<Figure size 432x288 with 1 Axes>"
      ]
     },
     "metadata": {},
     "output_type": "display_data"
    },
    {
     "data": {
      "image/png": "[encoded data removed]",
      "text/plain": [
       "<Figure size 432x288 with 1 Axes>"
      ]
     },
     "metadata": {},
     "output_type": "display_data"
    },
    {
     "data": {
      "text/plain": [
       "'hi'"
      ]
     },
     "execution_count": 131,
     "metadata": {},
     "output_type": "execute_result"
    }
   ],
   "source": [
    "optimal_trees(x_train,y_train,[30,40,50,60,70,80,90,100,110,120,130,140,150,160],x_test)"
   ]
  },
  {
   "cell_type": "code",
   "execution_count": null,
   "metadata": {},
   "outputs": [],
   "source": [
    "rfc =ensemble.RandomForestClassifier(n_estimators=100)"
   ]
  },
  {
   "cell_type": "code",
   "execution_count": null,
   "metadata": {},
   "outputs": [],
   "source": [
    "#rfc nosampling\n",
    "rfc_nosamp=rfc.fit(x_train,y_train)\n",
    "rfc_nosamp_prediction=rfc_nosamp.predict(x_test)\n",
    "rfc_nosamp_accuracy=accuracy_score(rfc_nosamp_prediction,y_test)\n",
    "rfc_nosamp_f1=f1_score(rfc_nosamp_prediction,y_test)\n",
    "rfc_nosamp_scores= [rfc_nosamp_accuracy, rfc_nosamp_f1]\n",
    "rfc_nosamp=[rfc_nosamp_scores]\n",
    "accuracy_no_sampling.append(rfc_nosamp_accuracy)\n",
    "f1_no_sampling.append(rfc_nosamp_f1)"
   ]
  },
  {
   "cell_type": "code",
   "execution_count": 179,
   "metadata": {},
   "outputs": [],
   "source": [
    "#rfc oversampling\n",
    "#now we make the decision tree with our new smaples\n",
    "rfc_oversamp=rfc.fit(x_ov,y_ov)\n",
    "rfc_oversamp_prediction=rfc_oversamp.predict(x_test)\n",
    "rfc_oversamp_accuracy=accuracy_score(rfc_oversamp_prediction,y_test)\n",
    "rfc_oversamp_f1=f1_score(rfc_oversamp_prediction,y_test)\n",
    "rfc_oversamp=[rfc_oversamp_accuracy,rfc_oversamp_f1]\n",
    "accuracy_over_sampling.append(rfc_oversamp_accuracy)\n",
    "f1_over_sampling.append(rfc_oversamp_f1)"
   ]
  },
  {
   "cell_type": "code",
   "execution_count": 220,
   "metadata": {},
   "outputs": [],
   "source": [
    "#rfc undersampling\n",
    "#now we make the decision tree with our new smaples\n",
    "undersamp_rfc=rfc.fit(x_under,y_under)\n",
    "rfc_undersamp_prediction=undersamp_rfc.predict(x_test)\n",
    "rfc_undersamp_accuracy=accuracy_score(rfc_undersamp_prediction,y_test)\n",
    "rfc_undersamp_f1=f1_score(rfc_undersamp_prediction,y_test)\n",
    "rfc_undersamp=[rfc_undersamp_accuracy, rfc_undersamp_f1]\n",
    "accuracy_under_sampling.append(rfc_undersamp_accuracy)\n",
    "f1_under_sampling.append(rfc_undersamp_f1)"
   ]
  },
  {
   "cell_type": "code",
   "execution_count": 221,
   "metadata": {},
   "outputs": [],
   "source": [
    "oversample_smote = SMOTE()\n",
    "rfc_oversamp_smote=rfc.fit(x_smote,y_smote)\n",
    "rfc_oversamp_smote_prediction=rfc_oversamp_smote.predict(x_test)\n",
    "rfc_oversamp_smote_accuracy=accuracy_score(rfc_oversamp_smote_prediction,y_test)\n",
    "rfc_oversamp_smote_f1=f1_score(rfc_oversamp_smote_prediction,y_test)\n",
    "rfc_smote=[rfc_oversamp_smote_accuracy, rfc_oversamp_smote_f1]\n",
    "accuracy_smote_sampling.append(rfc_oversamp_smote_accuracy)\n",
    "f1_smote_sampling.append(rfc_oversamp_smote_f1)"
   ]
  },
  {
   "cell_type": "code",
   "execution_count": 182,
   "metadata": {},
   "outputs": [
    {
     "data": {
      "text/plain": [
       "[0.521193092621664]"
      ]
     },
     "execution_count": 182,
     "metadata": {},
     "output_type": "execute_result"
    }
   ],
   "source": [
    "accuracy_no_sampling\n",
    "accuracy_over_sampling\n",
    "accuracy_under_sampling\n",
    "accuracy_smote_sampling\n",
    "f1_no_sampling\n",
    "f1_over_sampling\n",
    "f1_under_sampling\n",
    "f1_smote_sampling"
   ]
  },
  {
   "cell_type": "code",
   "execution_count": 222,
   "metadata": {},
   "outputs": [
    {
     "name": "stdout",
     "output_type": "stream",
     "text": [
      "[0.724, 0.8191111111111111]\n",
      "[0.7331111111111112, 0.8113333333333334]\n",
      "[0.6164444444444445, 0.7357777777777778]\n",
      "[0.7071111111111111, 0.8002222222222222]\n",
      "[0.41137440758293836, 0.48481012658227846]\n",
      "[0.403378042722305, 0.518434486670448]\n",
      "[0.4316498316498317, 0.5294815987336763]\n",
      "[0.4264577893820714, 0.5215540180947312]\n"
     ]
    }
   ],
   "source": [
    "print(accuracy_no_sampling)\n",
    "print(accuracy_over_sampling)\n",
    "print(accuracy_under_sampling)\n",
    "print(accuracy_smote_sampling)\n",
    "print(f1_no_sampling)\n",
    "print(f1_over_sampling)\n",
    "print(f1_under_sampling)\n",
    "print(f1_smote_sampling)"
   ]
  },
  {
   "cell_type": "code",
   "execution_count": 214,
   "metadata": {},
   "outputs": [
    {
     "data": {
      "image/png": "[encoded data removed]",
      "text/plain": [
       "<Figure size 432x288 with 1 Axes>"
      ]
     },
     "metadata": {},
     "output_type": "display_data"
    }
   ],
   "source": [
    "methods=['Decision Tree','Random Forest']\n",
    "sampling=['no sampling','over sampling','under sampling','smote']\n",
    "x=np.arange(2)\n",
    "width=0.2\n",
    "\n",
    "plt.bar(x-0.2, accuracy_no_sampling, width,color='blue')\n",
    "plt.bar(x, accuracy_over_sampling, width,color ='orange')\n",
    "plt.bar(x+0.2, accuracy_under_sampling,width,color='green')\n",
    "plt.bar(x+0.4, accuracy_smote_sampling, width,color='pink')\n",
    "# Add some text for labels, title and custom x-axis tick labels, etc.\n",
    "plt.ylabel(' Accuracy Scores')\n",
    "plt.xlabel('Method')\n",
    "ax.set_title('Scores by method and sampling')\n",
    "plt.xticks(x,methods)\n",
    "plt.legend(sampling)\n",
    "\n",
    "plt.show()\n",
    "\n"
   ]
  },
  {
   "cell_type": "code",
   "execution_count": 224,
   "metadata": {},
   "outputs": [
    {
     "data": {
      "image/png": "[encoded data removed]",
      "text/plain": [
       "<Figure size 432x288 with 1 Axes>"
      ]
     },
     "metadata": {},
     "output_type": "display_data"
    }
   ],
   "source": [
    "methods=['Decision Tree','Random Forest']\n",
    "sampling=['no sampling','over sampling','under sampling','smote']\n",
    "x=np.arange(2)\n",
    "width=0.2\n",
    "\n",
    "plt.bar(x-0.2, f1_no_sampling, width,color='blue')\n",
    "plt.bar(x, f1_over_sampling, width,color ='orange')\n",
    "plt.bar(x+0.2, f1_under_sampling,width,color='green')\n",
    "plt.bar(x+0.4, f1_smote_sampling, width,color='pink')\n",
    "# Add some text for labels, title and custom x-axis tick labels, etc.\n",
    "plt.ylabel(' F1 Scores')\n",
    "plt.xlabel('Method')\n",
    "ax.set_title('Scores by method and sampling')\n",
    "plt.xticks(x,methods)\n",
    "plt.legend(sampling)\n",
    "\n",
    "plt.show()"
   ]
  },
  {
   "cell_type": "raw",
   "metadata": {},
   "source": [
    "x = np.arange(5)\n",
    "y1 = [34, 56, 12, 89, 67]\n",
    "y2 = [12, 56, 78, 45, 90]\n",
    "y3 = [14, 23, 45, 25, 89]\n",
    "width = 0.2\n",
    "  \n",
    "# plot data in grouped manner of bar type\n",
    "plt.bar(x-0.2, y1, width, color='cyan')\n",
    "plt.bar(x, y2, width, color='orange')\n",
    "plt.bar(x+0.2, y3, width, color='green')\n",
    "plt.xticks(x, ['Team A', 'Team B', 'Team C', 'Team D', 'Team E'])\n",
    "plt.xlabel(\"Teams\")\n",
    "plt.ylabel(\"Scores\")\n",
    "plt.legend([\"Round 1\", \"Round 2\", \"Round 3\"])"
   ]
  }
 ],
 "metadata": {
  "kernelspec": {
   "display_name": "Python 3",
   "language": "python",
   "name": "python3"
  },
  "language_info": {
   "codemirror_mode": {
    "name": "ipython",
    "version": 3
   },
   "file_extension": ".py",
   "mimetype": "text/x-python",
   "name": "python",
   "nbconvert_exporter": "python",
   "pygments_lexer": "ipython3",
   "version": "3.8.5"
  }
 },
 "nbformat": 4,
 "nbformat_minor": 4
}
