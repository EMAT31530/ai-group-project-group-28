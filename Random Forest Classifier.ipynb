{
 "cells": [
  {
   "cell_type": "code",
   "execution_count": 56,
   "metadata": {},
   "outputs": [],
   "source": [
    "import numpy as np\n",
    "import pandas as pd\n",
    "from matplotlib import pyplot as plt\n",
    "from sklearn.model_selection import train_test_split\n",
    "from sklearn.tree import DecisionTreeClassifier\n",
    "from sklearn import tree"
   ]
  },
  {
   "cell_type": "code",
   "execution_count": 59,
   "metadata": {},
   "outputs": [],
   "source": [
    "from imblearn.over_sampling import RandomOverSampler\n",
    "from imblearn.under_sampling import RandomUnderSampler\n",
    "from imblearn.over_sampling import SMOTE\n"
   ]
  },
  {
   "cell_type": "code",
   "execution_count": 58,
   "metadata": {},
   "outputs": [],
   "source": [
    "df=pd.read_csv(r'C:\\Users\\Mollie\\Documents\\Uni 3\\AI\\AI project\\Cleaning the data\\clean_data.csv')\n",
    "df.head()\n",
    "dataX=df.iloc[:,:-1]\n",
    "dataY=df.iloc[:,-1]\n",
    "from sklearn.model_selection import train_test_split\n",
    "from collections import Counter\n",
    "train_ratio = 0.75\n",
    "validation_ratio = 0.15\n",
    "test_ratio = 0.10\n",
    "\n",
    "# train is now 75% of the entire data set\n",
    "# the _junk suffix means that we drop that variable completely\n",
    "x_train, x_test, y_train, y_test = train_test_split(dataX, dataY, test_size=1 - train_ratio)\n",
    "\n",
    "# test is now 10% of the initial data set\n",
    "# validation is now 15% of the initial data set\n",
    "x_val, x_test, y_val, y_test = train_test_split(x_test, y_test, test_size=test_ratio/(test_ratio + validation_ratio)) \n"
   ]
  },
  {
   "cell_type": "code",
   "execution_count": 14,
   "metadata": {},
   "outputs": [],
   "source": [
    "clf =tree.DecisionTreeClassifier()\n",
    "nosamp_clf=clf.fit(x_train,y_train)\n",
    "nosamp_prediction=nosamp_clf.predict(x_test)"
   ]
  },
  {
   "cell_type": "code",
   "execution_count": 12,
   "metadata": {},
   "outputs": [],
   "source": [
    "from sklearn.metrics import precision_score\n",
    "from sklearn.metrics import recall_score\n",
    "from sklearn.metrics import f1_score\n",
    "from sklearn.metrics import accuracy_score\n",
    "from sklearn.metrics import roc_curve, auc, roc_auc_score"
   ]
  },
  {
   "cell_type": "code",
   "execution_count": 39,
   "metadata": {},
   "outputs": [
    {
     "name": "stdout",
     "output_type": "stream",
     "text": [
      "Training statistics: Counter({0: 31403, 1: 2743})\n",
      "Testing statistics: Counter({0: 4161, 1: 392})\n",
      "0.9747419283988579 0.8571428571428571 0.850632911392405 0.8538754764930113\n"
     ]
    }
   ],
   "source": [
    "#nosampling\n",
    "print(f\"Training statistics: {Counter(y_train)}\")\n",
    "print(f\"Testing statistics: {Counter(y_test)}\")\n",
    "amex_nosamp_accuracy=accuracy_score(nosamp_prediction,y_test)\n",
    "amex_nosamp_precision=precision_score(nosamp_prediction,y_test)\n",
    "amex_nosamp_recall=recall_score(nosamp_prediction,y_test)\n",
    "amex_nosamp_f1=f1_score(nosamp_prediction,y_test)\n",
    "print(amex_nosamp_accuracy,amex_nosamp_precision,amex_nosamp_recall,amex_nosamp_f1)"
   ]
  },
  {
   "cell_type": "code",
   "execution_count": 40,
   "metadata": {},
   "outputs": [
    {
     "name": "stdout",
     "output_type": "stream",
     "text": [
      "Training target statistics: Counter({0: 31403, 1: 31403})\n",
      "Testing target statistics: Counter({0: 4161, 1: 392})\n",
      "0.9729848451570393 0.8367346938775511 0.8475452196382429 0.8421052631578948\n"
     ]
    }
   ],
   "source": [
    "#oversampling\n",
    "#here we have oversampled so in the training set there are 31403 in each catagory\n",
    "over_sampler = RandomOverSampler(random_state=42)\n",
    "x_ov, y_ov = over_sampler.fit_resample(x_train, y_train)\n",
    "\n",
    "print(f\"Training target statistics: {Counter(y_ov)}\")\n",
    "print(f\"Testing target statistics: {Counter(y_test)}\")\n",
    "#now we make the decision tree with our new smaples\n",
    "oversamp_clf=clf.fit(x_ov,y_ov)\n",
    "oversamp_prediction=clf.predict(x_test)\n",
    "amex_oversamp_accuracy=accuracy_score(oversamp_prediction,y_test)\n",
    "amex_oversamp_precision=precision_score(oversamp_prediction,y_test)\n",
    "amex_oversamp_recall=recall_score(oversamp_prediction,y_test)\n",
    "amex_oversamp_f1=f1_score(oversamp_prediction,y_test)\n",
    "print(amex_oversamp_accuracy,amex_oversamp_precision,amex_oversamp_recall,amex_oversamp_f1)"
   ]
  },
  {
   "cell_type": "code",
   "execution_count": 41,
   "metadata": {},
   "outputs": [
    {
     "name": "stdout",
     "output_type": "stream",
     "text": [
      "Training target statistics: Counter({0: 2743, 1: 2743})\n",
      "Testing target statistics: Counter({0: 4161, 1: 392})\n",
      "0.9562925543597628 0.9489795918367347 0.6751361161524501 0.7889713679745494\n"
     ]
    }
   ],
   "source": [
    "#undersampling\n",
    "under_sampler = RandomUnderSampler(random_state=42)\n",
    "x_under, y_under = under_sampler.fit_resample(x_train, y_train)\n",
    "print(f\"Training target statistics: {Counter(y_under)}\")\n",
    "print(f\"Testing target statistics: {Counter(y_test)}\")\n",
    "#x_res=x_res[:,1:]\n",
    "#here we have undersampled so in the training set there are 2743 in each catagory\n",
    "#now we make the decision tree with our new smaples\n",
    "undersamp_clf=clf.fit(x_under,y_under)\n",
    "undersamp_prediction=clf.predict(x_test)\n",
    "amex_undersamp_accuracy=accuracy_score(undersamp_prediction,y_test)\n",
    "amex_undersamp_precision=precision_score(undersamp_prediction,y_test)\n",
    "amex_undersamp_recall=recall_score(undersamp_prediction,y_test)\n",
    "amex_undersamp_f1=f1_score(undersamp_prediction,y_test)\n",
    "print(amex_undersamp_accuracy,amex_undersamp_precision,amex_undersamp_recall,amex_undersamp_f1)"
   ]
  },
  {
   "cell_type": "code",
   "execution_count": 67,
   "metadata": {},
   "outputs": [
    {
     "name": "stdout",
     "output_type": "stream",
     "text": [
      "Training target statistics: Counter({1: 31360, 0: 31360})\n",
      "Testing target statistics: Counter({0: 4201, 1: 352})\n",
      "0.9743026575884033 0.8778409090909091 0.8067885117493473 0.8408163265306123\n"
     ]
    }
   ],
   "source": [
    "oversample_smote = SMOTE()\n",
    "x_smote, y_smote = oversample_smote.fit_resample(x_train, y_train)\n",
    "print(f\"Training target statistics: {Counter(y_smote)}\")\n",
    "print(f\"Testing target statistics: {Counter(y_test)}\")\n",
    "oversamp_smote_clf=clf.fit(x_smote,y_smote)\n",
    "oversamp_smote_prediction=clf.predict(x_test)\n",
    "amex_oversamp_smote_accuracy=accuracy_score(oversamp_smote_prediction,y_test)\n",
    "amex_oversamp_smote_precision=precision_score(oversamp_smote_prediction,y_test)\n",
    "amex_oversamp_smote_recall=recall_score(oversamp_smote_prediction,y_test)\n",
    "amex_oversamp_smote_f1=f1_score(oversamp_smote_prediction,y_test)\n",
    "print(amex_oversamp_smote_accuracy,amex_oversamp_smote_precision,amex_oversamp_smote_recall,amex_oversamp_smote_f1)"
   ]
  },
  {
   "cell_type": "code",
   "execution_count": 45,
   "metadata": {},
   "outputs": [],
   "source": [
    "from sklearn.ensemble import RandomForestClassifier\n",
    "from sklearn import ensemble"
   ]
  },
  {
   "cell_type": "code",
   "execution_count": 49,
   "metadata": {},
   "outputs": [],
   "source": [
    "rfc =ensemble.RandomForestClassifier()\n",
    "rfc_nosamp=rfc.fit(x_train,y_train)\n",
    "rfc_nosamp_prediction=rfc_nosamp.predict(x_test)"
   ]
  },
  {
   "cell_type": "code",
   "execution_count": 69,
   "metadata": {},
   "outputs": [
    {
     "name": "stdout",
     "output_type": "stream",
     "text": [
      "[0.8647045903799693, 0.05965909090909091, 0.06862745098039216, 0.06382978723404256]\n"
     ]
    }
   ],
   "source": [
    "#rfc nosampling\n",
    "amex_rfc_nosamp_accuracy=accuracy_score(rfc_nosamp_prediction,y_test)\n",
    "amex_rfc_nosamp_precision=precision_score(rfc_nosamp_prediction,y_test)\n",
    "amex_rfc_nosamp_recall=recall_score(rfc_nosamp_prediction,y_test)\n",
    "amex_rfc_nosamp_f1=f1_score(rfc_nosamp_prediction,y_test)\n",
    "rfc_nosamp_scores= [amex_rfc_nosamp_accuracy,amex_rfc_nosamp_precision,amex_rfc_nosamp_recall,amex_rfc_nosamp_f1]\n",
    "print(rfc_nosamp_scores)"
   ]
  },
  {
   "cell_type": "code",
   "execution_count": 65,
   "metadata": {},
   "outputs": [
    {
     "name": "stdout",
     "output_type": "stream",
     "text": [
      "0.9967054689215902 0.9715909090909091 0.9855907780979827 0.9785407725321887\n"
     ]
    }
   ],
   "source": [
    "#rfc oversampling\n",
    "#now we make the decision tree with our new smaples\n",
    "rfc_oversamp=rfc.fit(x_ov,y_ov)\n",
    "rfc_oversamp_prediction=rfc.predict(x_test)\n",
    "amex_rfc_oversamp_accuracy=accuracy_score(rfc_oversamp_prediction,y_test)\n",
    "amex_rfc_oversamp_precision=precision_score(rfc_oversamp_prediction,y_test)\n",
    "amex_rfc_oversamp_recall=recall_score(rfc_oversamp_prediction,y_test)\n",
    "amex_rfc_oversamp_f1=f1_score(rfc_oversamp_prediction,y_test)\n",
    "print(amex_rfc_oversamp_accuracy,amex_rfc_oversamp_precision,amex_rfc_oversamp_recall,amex_rfc_oversamp_f1)\n"
   ]
  },
  {
   "cell_type": "code",
   "execution_count": 54,
   "metadata": {},
   "outputs": [
    {
     "name": "stdout",
     "output_type": "stream",
     "text": [
      "0.9527783878761257 0.9948979591836735 0.6467661691542289 0.7839195979899498\n"
     ]
    }
   ],
   "source": [
    "#rfc oversampling\n",
    "#now we make the decision tree with our new smaples\n",
    "undersamp_rfc=rfc.fit(x_under,y_under)\n",
    "rfc_undersamp_prediction=rfc.predict(x_test)\n",
    "amex_rfc_undersamp_accuracy=accuracy_score(rfc_undersamp_prediction,y_test)\n",
    "amex_rfc_undersamp_precision=precision_score(rfc_undersamp_prediction,y_test)\n",
    "amex_rfc_undersamp_recall=recall_score(rfc_undersamp_prediction,y_test)\n",
    "amex_rfc_undersamp_f1=f1_score(rfc_undersamp_prediction,y_test)\n",
    "print(amex_rfc_undersamp_accuracy,amex_rfc_undersamp_precision,amex_rfc_undersamp_recall,amex_rfc_undersamp_f1)\n"
   ]
  },
  {
   "cell_type": "code",
   "execution_count": 63,
   "metadata": {},
   "outputs": [
    {
     "name": "stdout",
     "output_type": "stream",
     "text": [
      "Training target statistics: Counter({1: 31360, 0: 31360})\n",
      "Testing target statistics: Counter({0: 4201, 1: 352})\n",
      "0.980232813529541 0.8494318181818182 0.8898809523809523 0.869186046511628\n"
     ]
    }
   ],
   "source": [
    "oversample_smote = SMOTE()\n",
    "x_smote, y_smote = oversample_smote.fit_resample(x_train, y_train)\n",
    "print(f\"Training target statistics: {Counter(y_smote)}\")\n",
    "print(f\"Testing target statistics: {Counter(y_test)}\")\n",
    "\n",
    "rfc_oversamp_smote=rfc.fit(x_smote,y_smote)\n",
    "rfc_oversamp_smote_prediction=rfc.predict(x_test)\n",
    "amex_rfc_oversamp_smote_accuracy=accuracy_score(rfc_oversamp_smote_prediction,y_test)\n",
    "amex_rfc_oversamp_smote_precision=precision_score(rfc_oversamp_smote_prediction,y_test)\n",
    "amex_rfc_oversamp_smote_recall=recall_score(rfc_oversamp_smote_prediction,y_test)\n",
    "amex_rfc_oversamp_smote_f1=f1_score(rfc_oversamp_smote_prediction,y_test)\n",
    "print(amex_rfc_oversamp_smote_accuracy,amex_rfc_oversamp_smote_precision,amex_rfc_oversamp_smote_recall,amex_rfc_oversamp_smote_f1)"
   ]
  },
  {
   "cell_type": "code",
   "execution_count": null,
   "metadata": {},
   "outputs": [],
   "source": [
    "#gradient boosted decsion trees"
   ]
  },
  {
   "cell_type": "code",
   "execution_count": 71,
   "metadata": {},
   "outputs": [
    {
     "data": {
      "text/plain": [
       "<BarContainer object of 4 artists>"
      ]
     },
     "execution_count": 71,
     "metadata": {},
     "output_type": "execute_result"
    },
    {
     "data": {
      "image/png": "[encoded data removed]",
      "text/plain": [
       "<Figure size 432x288 with 1 Axes>"
      ]
     },
     "metadata": {},
     "output_type": "display_data"
    }
   ],
   "source": [
    "names=['acc','prec','rec','f1']\n",
    "plt.bar(names,rfc_nosamp_scores)"
   ]
  },
  {
   "cell_type": "raw",
   "metadata": {},
   "source": []
  }
 ],
 "metadata": {
  "kernelspec": {
   "display_name": "Python 3",
   "language": "python",
   "name": "python3"
  },
  "language_info": {
   "codemirror_mode": {
    "name": "ipython",
    "version": 3
   },
   "file_extension": ".py",
   "mimetype": "text/x-python",
   "name": "python",
   "nbconvert_exporter": "python",
   "pygments_lexer": "ipython3",
   "version": "3.8.5"
  }
 },
 "nbformat": 4,
 "nbformat_minor": 4
}
