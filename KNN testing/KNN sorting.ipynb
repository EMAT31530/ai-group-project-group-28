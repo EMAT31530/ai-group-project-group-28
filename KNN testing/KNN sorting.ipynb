{
 "cells": [
  {
   "cell_type": "code",
   "execution_count": null,
   "id": "91c5ba9f",
   "metadata": {},
   "outputs": [],
   "source": [
    "import numpy as np\n",
    "import pandas as pd\n",
    "import matplotlib.pyplot as plt\n",
    "from newKNN import *"
   ]
  },
  {
   "cell_type": "markdown",
   "id": "d79edb2c",
   "metadata": {},
   "source": [
    "## Import all the necessary sets"
   ]
  },
  {
   "cell_type": "code",
   "execution_count": null,
   "id": "15525ed3",
   "metadata": {},
   "outputs": [],
   "source": [
    "df= pd.read_csv('training.csv')\n",
    "validation=pd.read_csv('validation.csv')\n"
   ]
  },
  {
   "cell_type": "markdown",
   "id": "cb0c20a2",
   "metadata": {},
   "source": [
    "Convert the dataframes into arrays because the algorithms are written for arrays"
   ]
  },
  {
   "cell_type": "code",
   "execution_count": null,
   "id": "c551b9b9",
   "metadata": {},
   "outputs": [],
   "source": [
    "training = [[i for i in df.iloc[j]] for j in range(len(df))]\n",
    "validation = [[i for i in validation.iloc[j]] for j in range(len(validation))]\n"
   ]
  },
  {
   "cell_type": "markdown",
   "id": "3505382e",
   "metadata": {},
   "source": [
    "Create a function that checks if the predicted value is the same as the true value"
   ]
  },
  {
   "cell_type": "code",
   "execution_count": null,
   "id": "8ba8f304",
   "metadata": {},
   "outputs": [],
   "source": [
    "def checker(example, output):\n",
    "    if example[-1]==output:\n",
    "        return True\n",
    "    else:\n",
    "        return False\n",
    "    "
   ]
  },
  {
   "cell_type": "markdown",
   "id": "3be49374",
   "metadata": {},
   "source": [
    "This function calculates the euclidean distance of all the points in the training, from each point in the test set. It also sorts them."
   ]
  },
  {
   "cell_type": "code",
   "execution_count": null,
   "id": "31eed3cf",
   "metadata": {},
   "outputs": [],
   "source": [
    "def sorted_distances(training_set, test_set):\n",
    "    distances = []\n",
    "    for i in test_set:\n",
    "        output = nearest_neighbours(training,i)\n",
    "        distances.append(output)\n",
    "    return distances\n",
    "    \n",
    "    "
   ]
  },
  {
   "cell_type": "markdown",
   "id": "5bc27969",
   "metadata": {},
   "source": [
    "This function iteratively looks at all the values in the validation set and finds the most common label for the nearest k values.\n",
    "\n",
    "It then checks if this label is the same as the true value and appends True/False depending on this.\n",
    "\n",
    "Finally returns an array with a boolean value for the index of each example in the validation set"
   ]
  },
  {
   "cell_type": "code",
   "execution_count": null,
   "id": "c7e87433",
   "metadata": {},
   "outputs": [],
   "source": [
    "\n",
    "\n",
    "\n",
    "def final_knn(training_set, sorted_distances_array, k):\n",
    "    output = []\n",
    "    for i in range(len(sorted_distances_array)):\n",
    "        w = knn(training_set, sorted_distances_array[i], k)\n",
    "        output.append(checker(validation[i],w))\n",
    "    return output\n",
    "\n",
    "        "
   ]
  },
  {
   "cell_type": "code",
   "execution_count": null,
   "id": "bc64fddc",
   "metadata": {},
   "outputs": [],
   "source": [
    "#works out the accuracy of each value of K for the ENTIRE validation set\n",
    "#returns an array of all the accuracy scores for all k\n",
    "\n",
    "\n",
    "def evaluation_knn(training_set,distances_array,max_value):\n",
    "    k_val=np.arange(1,max_value+1)\n",
    "    accuracy = []\n",
    "    for k in k_val:\n",
    "        final = np.array(final_knn(training_set,distances_array,k))\n",
    "        score = final.sum() / len(final)\n",
    "        accuracy.append(score)\n",
    "    return k_val, accuracy\n",
    "\n",
    "\n",
    "#plots accuracy against k value\n",
    "def plot_evaluation(k_val, accuracy):\n",
    "    plt.figure()\n",
    "    plt.plot(k_val,accuracy)\n",
    "    plt.xlabel('K Value')\n",
    "    plt.ylabel('Accuracy')\n",
    "    plt.show()\n"
   ]
  },
  {
   "cell_type": "code",
   "execution_count": null,
   "id": "41218306",
   "metadata": {},
   "outputs": [],
   "source": [
    "accuracy = [np.array(final_knn(training,q,i)).sum() for i in range(1,101)]"
   ]
  },
  {
   "cell_type": "markdown",
   "id": "318ad2d2",
   "metadata": {},
   "source": [
    "# Run the following if you dare"
   ]
  },
  {
   "cell_type": "code",
   "execution_count": null,
   "id": "5526e779",
   "metadata": {},
   "outputs": [],
   "source": [
    "sorted_distances_array = sorted_distances(training, validation)"
   ]
  },
  {
   "cell_type": "code",
   "execution_count": null,
   "id": "a8865dcc",
   "metadata": {},
   "outputs": [],
   "source": [
    "k_val, accuracy = evaluation_knn(training, sorted_distances_array, 1000)"
   ]
  },
  {
   "cell_type": "code",
   "execution_count": null,
   "id": "df2f86a7",
   "metadata": {},
   "outputs": [],
   "source": [
    "plot_evaluation(k_val, accuracy)"
   ]
  }
 ],
 "metadata": {
  "kernelspec": {
   "display_name": "Python 3 (ipykernel)",
   "language": "python",
   "name": "python3"
  },
  "language_info": {
   "codemirror_mode": {
    "name": "ipython",
    "version": 3
   },
   "file_extension": ".py",
   "mimetype": "text/x-python",
   "name": "python",
   "nbconvert_exporter": "python",
   "pygments_lexer": "ipython3",
   "version": "3.9.1"
  }
 },
 "nbformat": 4,
 "nbformat_minor": 5
}
