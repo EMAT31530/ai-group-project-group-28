{
 "cells": [
  {
   "cell_type": "code",
   "execution_count": 21,
   "id": "79342127",
   "metadata": {},
   "outputs": [],
   "source": [
    "#Training and validation set creater\n",
    "\n",
    "import numpy as np\n",
    "import pandas as pd\n",
    "import random\n",
    "from sklearn.model_selection import train_test_split"
   ]
  },
  {
   "cell_type": "code",
   "execution_count": 22,
   "id": "c5a129bd",
   "metadata": {},
   "outputs": [],
   "source": [
    "df = pd.read_csv('normalised_clean_data.csv')"
   ]
  },
  {
   "cell_type": "code",
   "execution_count": 23,
   "id": "c00ba5ea",
   "metadata": {},
   "outputs": [],
   "source": [
    "df_train, df_test_valid = train_test_split( df ,stratify=df['credit_card_default'], test_size=0.3)\n",
    "df_test, df_validation = train_test_split( df_test_valid, stratify=df_test_valid['credit_card_default'], test_size=0.5)"
   ]
  },
  {
   "cell_type": "code",
   "execution_count": 24,
   "id": "303d0344",
   "metadata": {},
   "outputs": [
    {
     "name": "stdout",
     "output_type": "stream",
     "text": [
      "0.0    41831\n",
      "1.0     3697\n",
      "Name: credit_card_default, dtype: int64\n",
      "0.0    29281\n",
      "1.0     2588\n",
      "Name: credit_card_default, dtype: int64\n",
      "0.0    6275\n",
      "1.0     554\n",
      "Name: credit_card_default, dtype: int64\n",
      "0.0    6275\n",
      "1.0     555\n",
      "Name: credit_card_default, dtype: int64\n"
     ]
    }
   ],
   "source": [
    "print(df['credit_card_default'].value_counts())\n",
    "print(df_train['credit_card_default'].value_counts())\n",
    "print(df_test['credit_card_default'].value_counts())\n",
    "print(df_validation['credit_card_default'].value_counts())"
   ]
  },
  {
   "cell_type": "code",
   "execution_count": 25,
   "id": "3ea3b518",
   "metadata": {},
   "outputs": [],
   "source": [
    "df_train.to_csv('training_set.csv', index=False)\n",
    "df_validation.to_csv('validation_set.csv', index=False)\n",
    "df_test.to_csv('test_set.csv', index=False)"
   ]
  },
  {
   "cell_type": "code",
   "execution_count": null,
   "id": "820cedea",
   "metadata": {},
   "outputs": [],
   "source": []
  }
 ],
 "metadata": {
  "kernelspec": {
   "display_name": "Python 3 (ipykernel)",
   "language": "python",
   "name": "python3"
  },
  "language_info": {
   "codemirror_mode": {
    "name": "ipython",
    "version": 3
   },
   "file_extension": ".py",
   "mimetype": "text/x-python",
   "name": "python",
   "nbconvert_exporter": "python",
   "pygments_lexer": "ipython3",
   "version": "3.9.1"
  }
 },
 "nbformat": 4,
 "nbformat_minor": 5
}
