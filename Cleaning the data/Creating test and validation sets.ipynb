{
 "cells": [
  {
   "cell_type": "code",
   "execution_count": 1,
   "id": "79342127",
   "metadata": {},
   "outputs": [],
   "source": [
    "#Training and validation set creater\n",
    "\n",
    "import numpy as np\n",
    "import pandas as pd\n",
    "import random\n"
   ]
  },
  {
   "cell_type": "code",
   "execution_count": 2,
   "id": "fb492364",
   "metadata": {},
   "outputs": [],
   "source": [
    "def train_validate_test_split(df, train_percent=.7, validate_percent=.15, seed=None):\n",
    "    np.random.seed(seed)\n",
    "    perm = np.random.permutation(df.index)\n",
    "    m = len(df.index)\n",
    "    train_end = int(train_percent * m)\n",
    "    validate_end = int(validate_percent * m) + train_end\n",
    "    train = df.iloc[perm[:train_end]]\n",
    "    validate = df.iloc[perm[train_end:validate_end]]\n",
    "    test = df.iloc[perm[validate_end:]]\n",
    "    return train, validate, test\n"
   ]
  },
  {
   "cell_type": "code",
   "execution_count": 3,
   "id": "3ea3b518",
   "metadata": {},
   "outputs": [],
   "source": [
    "def csv_creator(train, validate, test):\n",
    "    train.to_csv('training_set.csv', index=False)\n",
    "    validate.to_csv('validation_set.csv', index=False)\n",
    "    test.to_csv('test_set.csv', index=False)"
   ]
  },
  {
   "cell_type": "code",
   "execution_count": 4,
   "id": "fb762d6f",
   "metadata": {},
   "outputs": [],
   "source": [
    "def set_maker(name):\n",
    "    df1 = pd.read_csv(name)\n",
    "    \n",
    "    train, validate, test = train_validate_test_split(df1)\n",
    "\n",
    "    csv_creator(train, validate, test)"
   ]
  },
  {
   "cell_type": "code",
   "execution_count": 5,
   "id": "99fe22aa",
   "metadata": {},
   "outputs": [],
   "source": [
    "set_maker('clean_data.csv')"
   ]
  },
  {
   "cell_type": "code",
   "execution_count": null,
   "id": "57c1485f",
   "metadata": {},
   "outputs": [],
   "source": []
  }
 ],
 "metadata": {
  "kernelspec": {
   "display_name": "Python 3 (ipykernel)",
   "language": "python",
   "name": "python3"
  },
  "language_info": {
   "codemirror_mode": {
    "name": "ipython",
    "version": 3
   },
   "file_extension": ".py",
   "mimetype": "text/x-python",
   "name": "python",
   "nbconvert_exporter": "python",
   "pygments_lexer": "ipython3",
   "version": "3.9.1"
  }
 },
 "nbformat": 4,
 "nbformat_minor": 5
}
