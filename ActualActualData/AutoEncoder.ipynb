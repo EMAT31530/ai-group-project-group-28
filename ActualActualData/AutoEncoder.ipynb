{
 "cells": [
  {
   "cell_type": "code",
   "execution_count": 21,
   "id": "e365182c",
   "metadata": {},
   "outputs": [],
   "source": [
    "from tensorflow.keras.layers import Dense, Dropout\n",
    "from tensorflow.keras.models import Sequential, Model\n",
    "from tensorflow.keras import metrics, Input\n",
    "import pandas as pd\n",
    "import numpy as np\n",
    "import matplotlib.pyplot as plt"
   ]
  },
  {
   "cell_type": "code",
   "execution_count": 17,
   "id": "e695f356",
   "metadata": {},
   "outputs": [],
   "source": [
    "METRICS = [metrics.RootMeanSquaredError(name='rms'), metrics.MeanAbsoluteError(name='mae')]"
   ]
  },
  {
   "cell_type": "code",
   "execution_count": 26,
   "id": "14a1f726",
   "metadata": {},
   "outputs": [],
   "source": [
    "ENCODING_DIM = 16 #Desired Dimension\n",
    "BATCH_SIZE = 64\n",
    "EPOCHS = 2"
   ]
  },
  {
   "cell_type": "code",
   "execution_count": 27,
   "id": "4a9db1c6",
   "metadata": {},
   "outputs": [],
   "source": [
    "def make_and_train_autoencoder(X_train, metrics=METRICS):\n",
    "    \n",
    "    len_input_output = X_train.shape[-1]\n",
    "    input_ = Input(shape=(len_input_output,))\n",
    "    encoded = Dense(units=ENCODING_DIM*2, activation=\"relu\")(input_)\n",
    "    bottleneck = Dense(units=ENCODING_DIM, \n",
    "                       activation=\"relu\")(encoded)\n",
    "    decoded = Dense(units=ENCODING_DIM*2, \n",
    "                    activation=\"relu\")(bottleneck)\n",
    "    output = Dense(units=len_input_output, \n",
    "                    activation=\"linear\")(decoded)\n",
    "    #Training is performed on the entire autoencoder\n",
    "    autoencoder = Model(inputs=input_, outputs=output)\n",
    "    autoencoder.compile(optimizer='adam', loss='mean_squared_error',\n",
    "                        metrics=[metrics])\n",
    "    autoencoder.fit(X_train, X_train,\n",
    "                    batch_size=BATCH_SIZE,\n",
    "                    epochs=EPOCHS)\n",
    "    #Use only the encoder part for dimensionality reduction\n",
    "    encoder = Model(inputs=input_, outputs=bottleneck)\n",
    "    return autoencoder, encoder"
   ]
  },
  {
   "cell_type": "code",
   "execution_count": 32,
   "id": "6d3fad21",
   "metadata": {},
   "outputs": [],
   "source": [
    "df = pd.read_csv('training_ROS.csv')\n",
    "qw = pd.read_csv('validation_set.csv')"
   ]
  },
  {
   "cell_type": "code",
   "execution_count": 29,
   "id": "7fd145c6",
   "metadata": {},
   "outputs": [],
   "source": [
    "X, y = df.iloc[:,:-1], df.iloc[:, -1]"
   ]
  },
  {
   "cell_type": "code",
   "execution_count": 30,
   "id": "3370ce7f",
   "metadata": {},
   "outputs": [
    {
     "name": "stdout",
     "output_type": "stream",
     "text": [
      "Epoch 1/2\n",
      "329/329 [==============================] - 5s 7ms/step - loss: 0.0106 - rms: 0.0865 - mae: 0.0451\n",
      "Epoch 2/2\n",
      "329/329 [==============================] - 2s 7ms/step - loss: 0.0015 - rms: 0.0387 - mae: 0.0234\n"
     ]
    }
   ],
   "source": [
    "auto, encode = make_and_train_autoencoder(X, metrics=METRICS)"
   ]
  },
  {
   "cell_type": "code",
   "execution_count": 42,
   "id": "4ef16be1",
   "metadata": {},
   "outputs": [],
   "source": [
    "q = encode.predict(X)"
   ]
  },
  {
   "cell_type": "code",
   "execution_count": 43,
   "id": "5431d375",
   "metadata": {},
   "outputs": [
    {
     "data": {
      "text/plain": [
       "(21000, 16)"
      ]
     },
     "execution_count": 43,
     "metadata": {},
     "output_type": "execute_result"
    }
   ],
   "source": [
    "q.shape"
   ]
  },
  {
   "cell_type": "code",
   "execution_count": 44,
   "id": "2847108f",
   "metadata": {},
   "outputs": [],
   "source": [
    "from sklearn.ensemble import AdaBoostClassifier "
   ]
  },
  {
   "cell_type": "code",
   "execution_count": 46,
   "id": "958fb94b",
   "metadata": {},
   "outputs": [
    {
     "ename": "NameError",
     "evalue": "name 'x_ov' is not defined",
     "output_type": "error",
     "traceback": [
      "\u001b[1;31m---------------------------------------------------------------------------\u001b[0m",
      "\u001b[1;31mNameError\u001b[0m                                 Traceback (most recent call last)",
      "Input \u001b[1;32mIn [46]\u001b[0m, in \u001b[0;36m<module>\u001b[1;34m\u001b[0m\n\u001b[0;32m      1\u001b[0m \u001b[38;5;66;03m#oversampling ada \u001b[39;00m\n\u001b[0;32m      3\u001b[0m ada \u001b[38;5;241m=\u001b[39m AdaBoostClassifier(n_estimators\u001b[38;5;241m=\u001b[39m\u001b[38;5;241m100\u001b[39m,learning_rate\u001b[38;5;241m=\u001b[39m\u001b[38;5;241m1\u001b[39m)\n\u001b[1;32m----> 4\u001b[0m ada_oversamp\u001b[38;5;241m=\u001b[39mada\u001b[38;5;241m.\u001b[39mfit(\u001b[43mx_ov\u001b[49m,y_ov)\n\u001b[0;32m      5\u001b[0m ada_oversamp_prediction\u001b[38;5;241m=\u001b[39mada_oversamp\u001b[38;5;241m.\u001b[39mpredict(x_test)\n\u001b[0;32m      6\u001b[0m ada_oversamp_accuracy\u001b[38;5;241m=\u001b[39maccuracy_score(ada_oversamp_prediction,y_test)\n",
      "\u001b[1;31mNameError\u001b[0m: name 'x_ov' is not defined"
     ]
    }
   ],
   "source": [
    "#oversampling ada \n",
    "\n",
    "ada = AdaBoostClassifier(n_estimators=100,learning_rate=1)\n",
    "ada_oversamp=ada.fit(x_ov,y_ov)\n",
    "ada_oversamp_prediction=ada_oversamp.predict(x_test)\n",
    "ada_oversamp_accuracy=accuracy_score(ada_oversamp_prediction,y_test)\n",
    "ada_oversamp_f1=f1_score(ada_oversamp_prediction,y_test)\n",
    "ada_oversamp=[ada_oversamp_accuracy,ada_oversamp_f1]\n",
    "accuracy_over_sampling.append(ada_oversamp_accuracy)\n",
    "f1_over_sampling.append(ada_oversamp_f1)"
   ]
  },
  {
   "cell_type": "code",
   "execution_count": null,
   "id": "ddfc6131",
   "metadata": {},
   "outputs": [],
   "source": []
  },
  {
   "cell_type": "code",
   "execution_count": null,
   "id": "ec4fd8c0",
   "metadata": {},
   "outputs": [],
   "source": []
  },
  {
   "cell_type": "code",
   "execution_count": null,
   "id": "82f45d84",
   "metadata": {},
   "outputs": [],
   "source": [
    "def optimal_epoch(max_val, X_train, metrics=METRICS):\n",
    "    auto = []\n",
    "    encode = []\n",
    "    for i in range(max_val):\n",
    "        EPOCHS = i\n",
    "        autoencoder, encoder = make_and_train_autoencoder(X_train, metrics=METRICS)\n",
    "        auto.append(autoencoder)\n",
    "        encode.append(encoder)\n",
    "    return auto, encode\n",
    "        "
   ]
  }
 ],
 "metadata": {
  "kernelspec": {
   "display_name": "Python 3 (ipykernel)",
   "language": "python",
   "name": "python3"
  },
  "language_info": {
   "codemirror_mode": {
    "name": "ipython",
    "version": 3
   },
   "file_extension": ".py",
   "mimetype": "text/x-python",
   "name": "python",
   "nbconvert_exporter": "python",
   "pygments_lexer": "ipython3",
   "version": "3.9.1"
  }
 },
 "nbformat": 4,
 "nbformat_minor": 5
}
